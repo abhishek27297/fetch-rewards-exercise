{
 "cells": [
  {
   "cell_type": "markdown",
   "id": "01fffd33-58b8-4c8e-8c45-37380b41bfba",
   "metadata": {},
   "source": [
    "# Fetch Rewards Coding Exercise - Analytics Engineer"
   ]
  },
  {
   "cell_type": "markdown",
   "id": "6ba001f8-5a0f-40b1-a90b-dac8aaea0324",
   "metadata": {},
   "source": [
    "## Data Analysis"
   ]
  },
  {
   "cell_type": "code",
   "execution_count": 1,
   "id": "99359325-16c2-4d6d-b795-87ddc8f22ce7",
   "metadata": {},
   "outputs": [],
   "source": [
    "import uuid\n",
    "import json\n",
    "import numpy as np\n",
    "import pandas as pd"
   ]
  },
  {
   "cell_type": "markdown",
   "id": "c235f69f-a1ea-4b58-9b0b-fb07529c5321",
   "metadata": {},
   "source": [
    "### Users"
   ]
  },
  {
   "cell_type": "code",
   "execution_count": 2,
   "id": "0e911059-153d-46a6-b868-8c86874b4ec9",
   "metadata": {},
   "outputs": [],
   "source": [
    "user_df = pd.read_json('./users.json', lines=True)\n",
    "user_df['_id'] = user_df['_id'].apply(lambda x: x['$oid'])\n",
    "user_df['createdDate'] = pd.to_datetime(\n",
    "    user_df['createdDate'].apply(lambda x: x['$date']), \n",
    "    unit='ms'\n",
    ")\n",
    "user_df['lastLogin'] = user_df['lastLogin'].apply(\n",
    "    lambda x: x['$date'] if isinstance(x, dict) else None\n",
    ")\n",
    "user_df['lastLogin'] = pd.to_datetime(user_df['lastLogin'], unit='ms', errors='coerce')\n",
    "\n",
    "user_df = user_df.rename(columns={\n",
    "    '_id': 'user_id',\n",
    "    'active': 'active_state',\n",
    "    'createdDate': 'created_date',\n",
    "    'lastLogin': 'last_login',\n",
    "    'role': 'role',\n",
    "    'signUpSource': 'sign_up_source',\n",
    "    'state': 'state'\n",
    "})"
   ]
  },
  {
   "cell_type": "code",
   "execution_count": 3,
   "id": "dd4c8819-8042-4b93-8e91-6b3e7f1ed8e2",
   "metadata": {},
   "outputs": [
    {
     "data": {
      "text/html": [
       "<div>\n",
       "<style scoped>\n",
       "    .dataframe tbody tr th:only-of-type {\n",
       "        vertical-align: middle;\n",
       "    }\n",
       "\n",
       "    .dataframe tbody tr th {\n",
       "        vertical-align: top;\n",
       "    }\n",
       "\n",
       "    .dataframe thead th {\n",
       "        text-align: right;\n",
       "    }\n",
       "</style>\n",
       "<table border=\"1\" class=\"dataframe\">\n",
       "  <thead>\n",
       "    <tr style=\"text-align: right;\">\n",
       "      <th></th>\n",
       "      <th>user_id</th>\n",
       "      <th>active_state</th>\n",
       "      <th>created_date</th>\n",
       "      <th>last_login</th>\n",
       "      <th>role</th>\n",
       "      <th>sign_up_source</th>\n",
       "      <th>state</th>\n",
       "    </tr>\n",
       "  </thead>\n",
       "  <tbody>\n",
       "    <tr>\n",
       "      <th>0</th>\n",
       "      <td>5ff1e194b6a9d73a3a9f1052</td>\n",
       "      <td>True</td>\n",
       "      <td>2021-01-03 15:24:04.800</td>\n",
       "      <td>2021-01-03 15:25:37.857999872</td>\n",
       "      <td>consumer</td>\n",
       "      <td>Email</td>\n",
       "      <td>WI</td>\n",
       "    </tr>\n",
       "    <tr>\n",
       "      <th>1</th>\n",
       "      <td>5ff1e194b6a9d73a3a9f1052</td>\n",
       "      <td>True</td>\n",
       "      <td>2021-01-03 15:24:04.800</td>\n",
       "      <td>2021-01-03 15:25:37.857999872</td>\n",
       "      <td>consumer</td>\n",
       "      <td>Email</td>\n",
       "      <td>WI</td>\n",
       "    </tr>\n",
       "    <tr>\n",
       "      <th>2</th>\n",
       "      <td>5ff1e194b6a9d73a3a9f1052</td>\n",
       "      <td>True</td>\n",
       "      <td>2021-01-03 15:24:04.800</td>\n",
       "      <td>2021-01-03 15:25:37.857999872</td>\n",
       "      <td>consumer</td>\n",
       "      <td>Email</td>\n",
       "      <td>WI</td>\n",
       "    </tr>\n",
       "    <tr>\n",
       "      <th>3</th>\n",
       "      <td>5ff1e1eacfcf6c399c274ae6</td>\n",
       "      <td>True</td>\n",
       "      <td>2021-01-03 15:25:30.554</td>\n",
       "      <td>2021-01-03 15:25:30.596999936</td>\n",
       "      <td>consumer</td>\n",
       "      <td>Email</td>\n",
       "      <td>WI</td>\n",
       "    </tr>\n",
       "    <tr>\n",
       "      <th>4</th>\n",
       "      <td>5ff1e194b6a9d73a3a9f1052</td>\n",
       "      <td>True</td>\n",
       "      <td>2021-01-03 15:24:04.800</td>\n",
       "      <td>2021-01-03 15:25:37.857999872</td>\n",
       "      <td>consumer</td>\n",
       "      <td>Email</td>\n",
       "      <td>WI</td>\n",
       "    </tr>\n",
       "  </tbody>\n",
       "</table>\n",
       "</div>"
      ],
      "text/plain": [
       "                    user_id  active_state            created_date  \\\n",
       "0  5ff1e194b6a9d73a3a9f1052          True 2021-01-03 15:24:04.800   \n",
       "1  5ff1e194b6a9d73a3a9f1052          True 2021-01-03 15:24:04.800   \n",
       "2  5ff1e194b6a9d73a3a9f1052          True 2021-01-03 15:24:04.800   \n",
       "3  5ff1e1eacfcf6c399c274ae6          True 2021-01-03 15:25:30.554   \n",
       "4  5ff1e194b6a9d73a3a9f1052          True 2021-01-03 15:24:04.800   \n",
       "\n",
       "                     last_login      role sign_up_source state  \n",
       "0 2021-01-03 15:25:37.857999872  consumer          Email    WI  \n",
       "1 2021-01-03 15:25:37.857999872  consumer          Email    WI  \n",
       "2 2021-01-03 15:25:37.857999872  consumer          Email    WI  \n",
       "3 2021-01-03 15:25:30.596999936  consumer          Email    WI  \n",
       "4 2021-01-03 15:25:37.857999872  consumer          Email    WI  "
      ]
     },
     "execution_count": 3,
     "metadata": {},
     "output_type": "execute_result"
    }
   ],
   "source": [
    "user_df.head()"
   ]
  },
  {
   "cell_type": "code",
   "execution_count": 4,
   "id": "024f6463-696f-450a-8507-598ec5042d3b",
   "metadata": {},
   "outputs": [
    {
     "data": {
      "text/plain": [
       "user_id            0\n",
       "active_state       0\n",
       "created_date       0\n",
       "last_login        62\n",
       "role               0\n",
       "sign_up_source    48\n",
       "state             56\n",
       "dtype: int64"
      ]
     },
     "execution_count": 4,
     "metadata": {},
     "output_type": "execute_result"
    }
   ],
   "source": [
    "user_df.isnull().sum()"
   ]
  },
  {
   "cell_type": "code",
   "execution_count": 5,
   "id": "406a1445-b6c8-4ea9-bf99-c7909c9ca71a",
   "metadata": {},
   "outputs": [
    {
     "data": {
      "text/plain": [
       "user_id                   object\n",
       "active_state                bool\n",
       "created_date      datetime64[ns]\n",
       "last_login        datetime64[ns]\n",
       "role                      object\n",
       "sign_up_source            object\n",
       "state                     object\n",
       "dtype: object"
      ]
     },
     "execution_count": 5,
     "metadata": {},
     "output_type": "execute_result"
    }
   ],
   "source": [
    "user_df.dtypes"
   ]
  },
  {
   "cell_type": "code",
   "execution_count": 6,
   "id": "b564dd5c-2513-4979-b322-dfa2e0c59ae3",
   "metadata": {},
   "outputs": [
    {
     "data": {
      "text/plain": [
       "(495, 7)"
      ]
     },
     "execution_count": 6,
     "metadata": {},
     "output_type": "execute_result"
    }
   ],
   "source": [
    "user_df.shape"
   ]
  },
  {
   "cell_type": "code",
   "execution_count": 7,
   "id": "6c106a0f-c597-4781-a994-2d613095a125",
   "metadata": {},
   "outputs": [
    {
     "data": {
      "text/plain": [
       "283"
      ]
     },
     "execution_count": 7,
     "metadata": {},
     "output_type": "execute_result"
    }
   ],
   "source": [
    "user_df.duplicated().sum()"
   ]
  },
  {
   "cell_type": "code",
   "execution_count": 8,
   "id": "22a24a04-7e83-43ae-9d96-86dcba3cd98d",
   "metadata": {},
   "outputs": [
    {
     "name": "stdout",
     "output_type": "stream",
     "text": [
      "(212, 7)\n",
      "0\n"
     ]
    }
   ],
   "source": [
    "user_df = user_df.drop_duplicates()\n",
    "print(user_df.shape)\n",
    "print(user_df.duplicated().sum())"
   ]
  },
  {
   "cell_type": "code",
   "execution_count": 9,
   "id": "adb81d78-2d8d-4480-92f2-414d47fa248e",
   "metadata": {},
   "outputs": [],
   "source": [
    "user_df['last_login'].fillna(pd.NaT,inplace=True)"
   ]
  },
  {
   "cell_type": "code",
   "execution_count": 10,
   "id": "01089e40-51b0-4357-8126-8d20fa803dfc",
   "metadata": {},
   "outputs": [
    {
     "data": {
      "text/plain": [
       "state\n",
       "WI     193\n",
       "NaN      6\n",
       "AL       5\n",
       "IL       3\n",
       "KY       1\n",
       "CO       1\n",
       "OH       1\n",
       "SC       1\n",
       "NH       1\n",
       "Name: count, dtype: int64"
      ]
     },
     "execution_count": 10,
     "metadata": {},
     "output_type": "execute_result"
    }
   ],
   "source": [
    "user_df['state'].value_counts(dropna=False)"
   ]
  },
  {
   "cell_type": "code",
   "execution_count": 11,
   "id": "7211a7a4-6bf0-45cb-87b8-ef05bdb3d69d",
   "metadata": {},
   "outputs": [
    {
     "data": {
      "text/plain": [
       "active_state\n",
       "True     211\n",
       "False      1\n",
       "Name: count, dtype: int64"
      ]
     },
     "execution_count": 11,
     "metadata": {},
     "output_type": "execute_result"
    }
   ],
   "source": [
    "# Assumption: False here represents inactive user\n",
    "user_df['active_state'].value_counts(dropna=False)"
   ]
  },
  {
   "cell_type": "code",
   "execution_count": 12,
   "id": "beeb087a-d4bf-4287-9615-a9cbf0dc9e94",
   "metadata": {},
   "outputs": [
    {
     "data": {
      "text/plain": [
       "sign_up_source\n",
       "Email     204\n",
       "NaN         5\n",
       "Google      3\n",
       "Name: count, dtype: int64"
      ]
     },
     "execution_count": 12,
     "metadata": {},
     "output_type": "execute_result"
    }
   ],
   "source": [
    "user_df['sign_up_source'].value_counts(dropna=False)"
   ]
  },
  {
   "cell_type": "code",
   "execution_count": 13,
   "id": "7228c374-7073-42ab-a71a-021bed5303d0",
   "metadata": {},
   "outputs": [
    {
     "data": {
      "text/html": [
       "<div>\n",
       "<style scoped>\n",
       "    .dataframe tbody tr th:only-of-type {\n",
       "        vertical-align: middle;\n",
       "    }\n",
       "\n",
       "    .dataframe tbody tr th {\n",
       "        vertical-align: top;\n",
       "    }\n",
       "\n",
       "    .dataframe thead th {\n",
       "        text-align: right;\n",
       "    }\n",
       "</style>\n",
       "<table border=\"1\" class=\"dataframe\">\n",
       "  <thead>\n",
       "    <tr style=\"text-align: right;\">\n",
       "      <th></th>\n",
       "      <th>user_id</th>\n",
       "      <th>active_state</th>\n",
       "      <th>created_date</th>\n",
       "      <th>last_login</th>\n",
       "      <th>role</th>\n",
       "      <th>sign_up_source</th>\n",
       "      <th>state</th>\n",
       "    </tr>\n",
       "  </thead>\n",
       "  <tbody>\n",
       "  </tbody>\n",
       "</table>\n",
       "</div>"
      ],
      "text/plain": [
       "Empty DataFrame\n",
       "Columns: [user_id, active_state, created_date, last_login, role, sign_up_source, state]\n",
       "Index: []"
      ]
     },
     "execution_count": 13,
     "metadata": {},
     "output_type": "execute_result"
    }
   ],
   "source": [
    "user_df[(user_df['last_login'] < user_df['created_date'])]"
   ]
  },
  {
   "cell_type": "markdown",
   "id": "6ee10ae4-f7de-477e-89d3-510ca63bf9c0",
   "metadata": {},
   "source": [
    "### Brands"
   ]
  },
  {
   "cell_type": "code",
   "execution_count": 14,
   "id": "3fc77b16-3a6c-4860-847d-33f907b260ec",
   "metadata": {},
   "outputs": [],
   "source": [
    "brands_df = pd.read_json('./brands.json', lines=True)\n",
    "\n",
    "brands_df['brand_uuid'] = brands_df['_id'].apply(lambda x: x.get('$oid', None))\n",
    "\n",
    "brands_df['cpg_id'] = brands_df['cpg'].apply(\n",
    "    lambda x: x.get('$id', {}).get('$oid', None) if isinstance(x, dict) else None\n",
    ")\n",
    "\n",
    "brands_df['cpg_ref'] = brands_df['cpg'].apply(\n",
    "    lambda x: x.get('$ref', None) if isinstance(x, dict) else None\n",
    ")\n",
    "\n",
    "brands_df = brands_df.drop(['_id', 'cpg'], axis=1)\n",
    " \n",
    "brands_df = brands_df[[\n",
    "    'brand_uuid', 'barcode', 'brandCode', 'name',\n",
    "    'category', 'categoryCode', 'topBrand',\n",
    "    'cpg_id', 'cpg_ref'\n",
    "]]\n",
    "\n",
    "brands_df = brands_df.rename(columns={\n",
    "    'brand_uuid': 'brand_id',\n",
    "    'barcode': 'barcode',\n",
    "    'brandCode': 'brand_code',\n",
    "    'name': 'brand_name',\n",
    "    'category': 'category',\n",
    "    'categoryCode': 'category_code',\n",
    "    'topBrand': 'top_brand',\n",
    "    'cpg_id': 'cpg_id',\n",
    "    'cpg_ref': 'cpg_ref'\n",
    "})"
   ]
  },
  {
   "cell_type": "code",
   "execution_count": 15,
   "id": "5378af60-82da-445a-ad3f-eb5217363ee3",
   "metadata": {},
   "outputs": [
    {
     "data": {
      "text/html": [
       "<div>\n",
       "<style scoped>\n",
       "    .dataframe tbody tr th:only-of-type {\n",
       "        vertical-align: middle;\n",
       "    }\n",
       "\n",
       "    .dataframe tbody tr th {\n",
       "        vertical-align: top;\n",
       "    }\n",
       "\n",
       "    .dataframe thead th {\n",
       "        text-align: right;\n",
       "    }\n",
       "</style>\n",
       "<table border=\"1\" class=\"dataframe\">\n",
       "  <thead>\n",
       "    <tr style=\"text-align: right;\">\n",
       "      <th></th>\n",
       "      <th>brand_id</th>\n",
       "      <th>barcode</th>\n",
       "      <th>brand_code</th>\n",
       "      <th>brand_name</th>\n",
       "      <th>category</th>\n",
       "      <th>category_code</th>\n",
       "      <th>top_brand</th>\n",
       "      <th>cpg_id</th>\n",
       "      <th>cpg_ref</th>\n",
       "    </tr>\n",
       "  </thead>\n",
       "  <tbody>\n",
       "    <tr>\n",
       "      <th>0</th>\n",
       "      <td>601ac115be37ce2ead437551</td>\n",
       "      <td>511111019862</td>\n",
       "      <td>NaN</td>\n",
       "      <td>test brand @1612366101024</td>\n",
       "      <td>Baking</td>\n",
       "      <td>BAKING</td>\n",
       "      <td>0.0</td>\n",
       "      <td>601ac114be37ce2ead437550</td>\n",
       "      <td>Cogs</td>\n",
       "    </tr>\n",
       "    <tr>\n",
       "      <th>1</th>\n",
       "      <td>601c5460be37ce2ead43755f</td>\n",
       "      <td>511111519928</td>\n",
       "      <td>STARBUCKS</td>\n",
       "      <td>Starbucks</td>\n",
       "      <td>Beverages</td>\n",
       "      <td>BEVERAGES</td>\n",
       "      <td>0.0</td>\n",
       "      <td>5332f5fbe4b03c9a25efd0ba</td>\n",
       "      <td>Cogs</td>\n",
       "    </tr>\n",
       "    <tr>\n",
       "      <th>2</th>\n",
       "      <td>601ac142be37ce2ead43755d</td>\n",
       "      <td>511111819905</td>\n",
       "      <td>TEST BRANDCODE @1612366146176</td>\n",
       "      <td>test brand @1612366146176</td>\n",
       "      <td>Baking</td>\n",
       "      <td>BAKING</td>\n",
       "      <td>0.0</td>\n",
       "      <td>601ac142be37ce2ead437559</td>\n",
       "      <td>Cogs</td>\n",
       "    </tr>\n",
       "    <tr>\n",
       "      <th>3</th>\n",
       "      <td>601ac142be37ce2ead43755a</td>\n",
       "      <td>511111519874</td>\n",
       "      <td>TEST BRANDCODE @1612366146051</td>\n",
       "      <td>test brand @1612366146051</td>\n",
       "      <td>Baking</td>\n",
       "      <td>BAKING</td>\n",
       "      <td>0.0</td>\n",
       "      <td>601ac142be37ce2ead437559</td>\n",
       "      <td>Cogs</td>\n",
       "    </tr>\n",
       "    <tr>\n",
       "      <th>4</th>\n",
       "      <td>601ac142be37ce2ead43755e</td>\n",
       "      <td>511111319917</td>\n",
       "      <td>TEST BRANDCODE @1612366146827</td>\n",
       "      <td>test brand @1612366146827</td>\n",
       "      <td>Candy &amp; Sweets</td>\n",
       "      <td>CANDY_AND_SWEETS</td>\n",
       "      <td>0.0</td>\n",
       "      <td>5332fa12e4b03c9a25efd1e7</td>\n",
       "      <td>Cogs</td>\n",
       "    </tr>\n",
       "  </tbody>\n",
       "</table>\n",
       "</div>"
      ],
      "text/plain": [
       "                   brand_id       barcode                     brand_code  \\\n",
       "0  601ac115be37ce2ead437551  511111019862                            NaN   \n",
       "1  601c5460be37ce2ead43755f  511111519928                      STARBUCKS   \n",
       "2  601ac142be37ce2ead43755d  511111819905  TEST BRANDCODE @1612366146176   \n",
       "3  601ac142be37ce2ead43755a  511111519874  TEST BRANDCODE @1612366146051   \n",
       "4  601ac142be37ce2ead43755e  511111319917  TEST BRANDCODE @1612366146827   \n",
       "\n",
       "                  brand_name        category     category_code  top_brand  \\\n",
       "0  test brand @1612366101024          Baking            BAKING        0.0   \n",
       "1                  Starbucks       Beverages         BEVERAGES        0.0   \n",
       "2  test brand @1612366146176          Baking            BAKING        0.0   \n",
       "3  test brand @1612366146051          Baking            BAKING        0.0   \n",
       "4  test brand @1612366146827  Candy & Sweets  CANDY_AND_SWEETS        0.0   \n",
       "\n",
       "                     cpg_id cpg_ref  \n",
       "0  601ac114be37ce2ead437550    Cogs  \n",
       "1  5332f5fbe4b03c9a25efd0ba    Cogs  \n",
       "2  601ac142be37ce2ead437559    Cogs  \n",
       "3  601ac142be37ce2ead437559    Cogs  \n",
       "4  5332fa12e4b03c9a25efd1e7    Cogs  "
      ]
     },
     "execution_count": 15,
     "metadata": {},
     "output_type": "execute_result"
    }
   ],
   "source": [
    "brands_df.head()"
   ]
  },
  {
   "cell_type": "code",
   "execution_count": 16,
   "id": "a0aa7dac-a1b9-4d6d-b245-9b9ca47f9b97",
   "metadata": {},
   "outputs": [
    {
     "data": {
      "text/plain": [
       "(1167, 9)"
      ]
     },
     "execution_count": 16,
     "metadata": {},
     "output_type": "execute_result"
    }
   ],
   "source": [
    "brands_df.shape"
   ]
  },
  {
   "cell_type": "code",
   "execution_count": 17,
   "id": "dff7437b-a1ab-4c97-a238-cba8bdba4f38",
   "metadata": {},
   "outputs": [
    {
     "data": {
      "text/plain": [
       "brand_id          object\n",
       "barcode            int64\n",
       "brand_code        object\n",
       "brand_name        object\n",
       "category          object\n",
       "category_code     object\n",
       "top_brand        float64\n",
       "cpg_id            object\n",
       "cpg_ref           object\n",
       "dtype: object"
      ]
     },
     "execution_count": 17,
     "metadata": {},
     "output_type": "execute_result"
    }
   ],
   "source": [
    "brands_df.dtypes"
   ]
  },
  {
   "cell_type": "code",
   "execution_count": 18,
   "id": "ec005171-f137-4612-b541-a6af6a5baa40",
   "metadata": {},
   "outputs": [
    {
     "data": {
      "text/plain": [
       "brand_id           0\n",
       "barcode            0\n",
       "brand_code       234\n",
       "brand_name         0\n",
       "category         155\n",
       "category_code    650\n",
       "top_brand        612\n",
       "cpg_id             0\n",
       "cpg_ref            0\n",
       "dtype: int64"
      ]
     },
     "execution_count": 18,
     "metadata": {},
     "output_type": "execute_result"
    }
   ],
   "source": [
    "brands_df.isnull().sum()"
   ]
  },
  {
   "cell_type": "code",
   "execution_count": 19,
   "id": "85fc3a4c-86f9-45f6-b5f2-55bbb888876f",
   "metadata": {},
   "outputs": [
    {
     "data": {
      "text/plain": [
       "0"
      ]
     },
     "execution_count": 19,
     "metadata": {},
     "output_type": "execute_result"
    }
   ],
   "source": [
    "brands_df.duplicated().sum()"
   ]
  },
  {
   "cell_type": "code",
   "execution_count": 20,
   "id": "40d971e3-38e0-47f9-9c04-fe3e04b9e805",
   "metadata": {},
   "outputs": [
    {
     "data": {
      "text/plain": [
       "(432, 9)"
      ]
     },
     "execution_count": 20,
     "metadata": {},
     "output_type": "execute_result"
    }
   ],
   "source": [
    "# Indicates test data mixed with production data\n",
    "brands_df[brands_df['brand_name'].str.contains('test', case=False, na=False)].shape"
   ]
  },
  {
   "cell_type": "code",
   "execution_count": 21,
   "id": "c5c1aae4-c212-4e17-ab55-c325f7cc1c83",
   "metadata": {},
   "outputs": [
    {
     "data": {
      "text/plain": [
       "(735, 9)"
      ]
     },
     "execution_count": 21,
     "metadata": {},
     "output_type": "execute_result"
    }
   ],
   "source": [
    "brands_df = brands_df[~brands_df['brand_name'].str.contains('test', case=False, na=False)]\n",
    "brands_df.shape"
   ]
  },
  {
   "cell_type": "code",
   "execution_count": 22,
   "id": "b7ec13d1-15a3-46c7-9abf-350f0c6924c4",
   "metadata": {},
   "outputs": [
    {
     "data": {
      "text/html": [
       "<div>\n",
       "<style scoped>\n",
       "    .dataframe tbody tr th:only-of-type {\n",
       "        vertical-align: middle;\n",
       "    }\n",
       "\n",
       "    .dataframe tbody tr th {\n",
       "        vertical-align: top;\n",
       "    }\n",
       "\n",
       "    .dataframe thead th {\n",
       "        text-align: right;\n",
       "    }\n",
       "</style>\n",
       "<table border=\"1\" class=\"dataframe\">\n",
       "  <thead>\n",
       "    <tr style=\"text-align: right;\">\n",
       "      <th></th>\n",
       "      <th>brand_id</th>\n",
       "      <th>barcode</th>\n",
       "      <th>brand_code</th>\n",
       "      <th>brand_name</th>\n",
       "      <th>category</th>\n",
       "      <th>category_code</th>\n",
       "      <th>top_brand</th>\n",
       "      <th>cpg_id</th>\n",
       "      <th>cpg_ref</th>\n",
       "    </tr>\n",
       "  </thead>\n",
       "  <tbody>\n",
       "    <tr>\n",
       "      <th>467</th>\n",
       "      <td>5c409ab4cd244a3539b84162</td>\n",
       "      <td>511111004790</td>\n",
       "      <td>ALEXA</td>\n",
       "      <td>alexa</td>\n",
       "      <td>Baking</td>\n",
       "      <td>NaN</td>\n",
       "      <td>1.0</td>\n",
       "      <td>55b62995e4b0d8e685c14213</td>\n",
       "      <td>Cogs</td>\n",
       "    </tr>\n",
       "    <tr>\n",
       "      <th>1071</th>\n",
       "      <td>5cdacd63166eb33eb7ce0fa8</td>\n",
       "      <td>511111004790</td>\n",
       "      <td>BITTEN</td>\n",
       "      <td>Bitten Dressing</td>\n",
       "      <td>Condiments &amp; Sauces</td>\n",
       "      <td>NaN</td>\n",
       "      <td>NaN</td>\n",
       "      <td>559c2234e4b06aca36af13c6</td>\n",
       "      <td>Cogs</td>\n",
       "    </tr>\n",
       "    <tr>\n",
       "      <th>152</th>\n",
       "      <td>5c45f91b87ff3552f950f027</td>\n",
       "      <td>511111204923</td>\n",
       "      <td>0987654321</td>\n",
       "      <td>Brand1</td>\n",
       "      <td>Grocery</td>\n",
       "      <td>NaN</td>\n",
       "      <td>1.0</td>\n",
       "      <td>5c45f8b087ff3552f950f026</td>\n",
       "      <td>Cogs</td>\n",
       "    </tr>\n",
       "    <tr>\n",
       "      <th>536</th>\n",
       "      <td>5d6027f46d5f3b23d1bc7906</td>\n",
       "      <td>511111204923</td>\n",
       "      <td>CHESTERS</td>\n",
       "      <td>CHESTER'S</td>\n",
       "      <td>Snacks</td>\n",
       "      <td>NaN</td>\n",
       "      <td>NaN</td>\n",
       "      <td>5332f5fbe4b03c9a25efd0ba</td>\n",
       "      <td>Cogs</td>\n",
       "    </tr>\n",
       "    <tr>\n",
       "      <th>129</th>\n",
       "      <td>5a7e0604e4b0aedb3b84afd3</td>\n",
       "      <td>511111504139</td>\n",
       "      <td>CHRISXYZ</td>\n",
       "      <td>Chris Brand XYZ</td>\n",
       "      <td>Beverages</td>\n",
       "      <td>NaN</td>\n",
       "      <td>NaN</td>\n",
       "      <td>55b62995e4b0d8e685c14213</td>\n",
       "      <td>Cogs</td>\n",
       "    </tr>\n",
       "    <tr>\n",
       "      <th>299</th>\n",
       "      <td>5a8c33f3e4b07f0a2dac8943</td>\n",
       "      <td>511111504139</td>\n",
       "      <td>PACE</td>\n",
       "      <td>Pace</td>\n",
       "      <td>Grocery</td>\n",
       "      <td>NaN</td>\n",
       "      <td>0.0</td>\n",
       "      <td>5a734034e4b0d58f376be874</td>\n",
       "      <td>Cogs</td>\n",
       "    </tr>\n",
       "    <tr>\n",
       "      <th>194</th>\n",
       "      <td>5d6415d5a3a018514994f429</td>\n",
       "      <td>511111605058</td>\n",
       "      <td>511111605058</td>\n",
       "      <td>Health Magazine</td>\n",
       "      <td>Magazines</td>\n",
       "      <td>NaN</td>\n",
       "      <td>NaN</td>\n",
       "      <td>5d5d4fd16d5f3b23d1bc7905</td>\n",
       "      <td>Cogs</td>\n",
       "    </tr>\n",
       "    <tr>\n",
       "      <th>1012</th>\n",
       "      <td>5c4637ba87ff35681e840d57</td>\n",
       "      <td>511111605058</td>\n",
       "      <td>09090909090</td>\n",
       "      <td>Brand2</td>\n",
       "      <td>Dairy</td>\n",
       "      <td>NaN</td>\n",
       "      <td>1.0</td>\n",
       "      <td>5c45f8b087ff3552f950f026</td>\n",
       "      <td>Cogs</td>\n",
       "    </tr>\n",
       "    <tr>\n",
       "      <th>1002</th>\n",
       "      <td>5a8c344ae4b0ccf165fac9e5</td>\n",
       "      <td>511111704140</td>\n",
       "      <td>PREGO</td>\n",
       "      <td>Prego</td>\n",
       "      <td>Condiments &amp; Sauces</td>\n",
       "      <td>NaN</td>\n",
       "      <td>0.0</td>\n",
       "      <td>5a734034e4b0d58f376be874</td>\n",
       "      <td>Cogs</td>\n",
       "    </tr>\n",
       "    <tr>\n",
       "      <th>1015</th>\n",
       "      <td>5a7e0665e4b0aedb3b84afd4</td>\n",
       "      <td>511111704140</td>\n",
       "      <td>DIETCHRIS2</td>\n",
       "      <td>Diet Chris Cola</td>\n",
       "      <td>NaN</td>\n",
       "      <td>NaN</td>\n",
       "      <td>NaN</td>\n",
       "      <td>55b62995e4b0d8e685c14213</td>\n",
       "      <td>Cogs</td>\n",
       "    </tr>\n",
       "  </tbody>\n",
       "</table>\n",
       "</div>"
      ],
      "text/plain": [
       "                      brand_id       barcode    brand_code       brand_name  \\\n",
       "467   5c409ab4cd244a3539b84162  511111004790         ALEXA            alexa   \n",
       "1071  5cdacd63166eb33eb7ce0fa8  511111004790        BITTEN  Bitten Dressing   \n",
       "152   5c45f91b87ff3552f950f027  511111204923    0987654321           Brand1   \n",
       "536   5d6027f46d5f3b23d1bc7906  511111204923      CHESTERS        CHESTER'S   \n",
       "129   5a7e0604e4b0aedb3b84afd3  511111504139      CHRISXYZ  Chris Brand XYZ   \n",
       "299   5a8c33f3e4b07f0a2dac8943  511111504139          PACE             Pace   \n",
       "194   5d6415d5a3a018514994f429  511111605058  511111605058  Health Magazine   \n",
       "1012  5c4637ba87ff35681e840d57  511111605058   09090909090           Brand2   \n",
       "1002  5a8c344ae4b0ccf165fac9e5  511111704140         PREGO            Prego   \n",
       "1015  5a7e0665e4b0aedb3b84afd4  511111704140    DIETCHRIS2  Diet Chris Cola   \n",
       "\n",
       "                 category category_code  top_brand                    cpg_id  \\\n",
       "467                Baking           NaN        1.0  55b62995e4b0d8e685c14213   \n",
       "1071  Condiments & Sauces           NaN        NaN  559c2234e4b06aca36af13c6   \n",
       "152               Grocery           NaN        1.0  5c45f8b087ff3552f950f026   \n",
       "536                Snacks           NaN        NaN  5332f5fbe4b03c9a25efd0ba   \n",
       "129             Beverages           NaN        NaN  55b62995e4b0d8e685c14213   \n",
       "299               Grocery           NaN        0.0  5a734034e4b0d58f376be874   \n",
       "194             Magazines           NaN        NaN  5d5d4fd16d5f3b23d1bc7905   \n",
       "1012                Dairy           NaN        1.0  5c45f8b087ff3552f950f026   \n",
       "1002  Condiments & Sauces           NaN        0.0  5a734034e4b0d58f376be874   \n",
       "1015                  NaN           NaN        NaN  55b62995e4b0d8e685c14213   \n",
       "\n",
       "     cpg_ref  \n",
       "467     Cogs  \n",
       "1071    Cogs  \n",
       "152     Cogs  \n",
       "536     Cogs  \n",
       "129     Cogs  \n",
       "299     Cogs  \n",
       "194     Cogs  \n",
       "1012    Cogs  \n",
       "1002    Cogs  \n",
       "1015    Cogs  "
      ]
     },
     "execution_count": 22,
     "metadata": {},
     "output_type": "execute_result"
    }
   ],
   "source": [
    "brands_df[brands_df.duplicated(subset=['barcode'], keep=False)].sort_values(by='barcode')"
   ]
  },
  {
   "cell_type": "code",
   "execution_count": 23,
   "id": "c07c3c77-973f-46f4-82e4-e9de10577c82",
   "metadata": {},
   "outputs": [
    {
     "data": {
      "text/plain": [
       "10"
      ]
     },
     "execution_count": 23,
     "metadata": {},
     "output_type": "execute_result"
    }
   ],
   "source": [
    "brands_df.duplicated(subset=['barcode'], keep=False).sum()"
   ]
  },
  {
   "cell_type": "code",
   "execution_count": 24,
   "id": "f20fc7a1-3a92-464c-b89f-4338424ec493",
   "metadata": {},
   "outputs": [
    {
     "data": {
      "text/html": [
       "<div>\n",
       "<style scoped>\n",
       "    .dataframe tbody tr th:only-of-type {\n",
       "        vertical-align: middle;\n",
       "    }\n",
       "\n",
       "    .dataframe tbody tr th {\n",
       "        vertical-align: top;\n",
       "    }\n",
       "\n",
       "    .dataframe thead th {\n",
       "        text-align: right;\n",
       "    }\n",
       "</style>\n",
       "<table border=\"1\" class=\"dataframe\">\n",
       "  <thead>\n",
       "    <tr style=\"text-align: right;\">\n",
       "      <th></th>\n",
       "      <th>brand_id</th>\n",
       "      <th>barcode</th>\n",
       "      <th>brand_code</th>\n",
       "      <th>brand_name</th>\n",
       "      <th>category</th>\n",
       "      <th>category_code</th>\n",
       "      <th>top_brand</th>\n",
       "      <th>cpg_id</th>\n",
       "      <th>cpg_ref</th>\n",
       "    </tr>\n",
       "  </thead>\n",
       "  <tbody>\n",
       "    <tr>\n",
       "      <th>848</th>\n",
       "      <td>585a961fe4b03e62d1ce0e76</td>\n",
       "      <td>511111701781</td>\n",
       "      <td>BAKEN-ETS</td>\n",
       "      <td>Baken-Ets</td>\n",
       "      <td>Snacks</td>\n",
       "      <td>NaN</td>\n",
       "      <td>1.0</td>\n",
       "      <td>5332f5fbe4b03c9a25efd0ba</td>\n",
       "      <td>Cogs</td>\n",
       "    </tr>\n",
       "    <tr>\n",
       "      <th>574</th>\n",
       "      <td>5d9d08d1a60b87376833e348</td>\n",
       "      <td>511111605546</td>\n",
       "      <td>BAKEN ETS</td>\n",
       "      <td>Baken-Ets</td>\n",
       "      <td>Snacks</td>\n",
       "      <td>NaN</td>\n",
       "      <td>NaN</td>\n",
       "      <td>5332f5fbe4b03c9a25efd0ba</td>\n",
       "      <td>Cogs</td>\n",
       "    </tr>\n",
       "    <tr>\n",
       "      <th>140</th>\n",
       "      <td>5a4d23dae4b0bcb2c74ea77e</td>\n",
       "      <td>511111000518</td>\n",
       "      <td>CALEB'S KOLA</td>\n",
       "      <td>Caleb's Kola</td>\n",
       "      <td>Beverages</td>\n",
       "      <td>NaN</td>\n",
       "      <td>0.0</td>\n",
       "      <td>5332f5fbe4b03c9a25efd0ba</td>\n",
       "      <td>Cogs</td>\n",
       "    </tr>\n",
       "    <tr>\n",
       "      <th>740</th>\n",
       "      <td>5d601d74a3a018514994f422</td>\n",
       "      <td>511111004912</td>\n",
       "      <td>CALEBS KOLA</td>\n",
       "      <td>Caleb's Kola</td>\n",
       "      <td>Snacks</td>\n",
       "      <td>NaN</td>\n",
       "      <td>NaN</td>\n",
       "      <td>53e10d6368abd3c7065097cc</td>\n",
       "      <td>Cogs</td>\n",
       "    </tr>\n",
       "    <tr>\n",
       "      <th>1007</th>\n",
       "      <td>5d658ffa6d5f3b23d1bc7914</td>\n",
       "      <td>511111205227</td>\n",
       "      <td>NaN</td>\n",
       "      <td>Diabetic Living Magazine</td>\n",
       "      <td>NaN</td>\n",
       "      <td>NaN</td>\n",
       "      <td>NaN</td>\n",
       "      <td>53e10d6368abd3c7065097cc</td>\n",
       "      <td>Cogs</td>\n",
       "    </tr>\n",
       "    <tr>\n",
       "      <th>1006</th>\n",
       "      <td>5d66d597a3a018093ab34726</td>\n",
       "      <td>511111805298</td>\n",
       "      <td>511111805298</td>\n",
       "      <td>Diabetic Living Magazine</td>\n",
       "      <td>Magazines</td>\n",
       "      <td>NaN</td>\n",
       "      <td>NaN</td>\n",
       "      <td>5d5d4fd16d5f3b23d1bc7905</td>\n",
       "      <td>Cogs</td>\n",
       "    </tr>\n",
       "    <tr>\n",
       "      <th>1163</th>\n",
       "      <td>5dc1fca91dda2c0ad7da64ae</td>\n",
       "      <td>511111706328</td>\n",
       "      <td>DIPPIN DOTS CEREAL</td>\n",
       "      <td>Dippin Dots® Cereal</td>\n",
       "      <td>Breakfast &amp; Cereal</td>\n",
       "      <td>NaN</td>\n",
       "      <td>NaN</td>\n",
       "      <td>53e10d6368abd3c7065097cc</td>\n",
       "      <td>Cogs</td>\n",
       "    </tr>\n",
       "    <tr>\n",
       "      <th>1081</th>\n",
       "      <td>5dc2d9d4a60b873d6b0666d2</td>\n",
       "      <td>511111206330</td>\n",
       "      <td>DIPPIN DOTS</td>\n",
       "      <td>Dippin Dots® Cereal</td>\n",
       "      <td>Breakfast &amp; Cereal</td>\n",
       "      <td>NaN</td>\n",
       "      <td>NaN</td>\n",
       "      <td>5332f5f3e4b03c9a25efd0ae</td>\n",
       "      <td>Cogs</td>\n",
       "    </tr>\n",
       "    <tr>\n",
       "      <th>194</th>\n",
       "      <td>5d6415d5a3a018514994f429</td>\n",
       "      <td>511111605058</td>\n",
       "      <td>511111605058</td>\n",
       "      <td>Health Magazine</td>\n",
       "      <td>Magazines</td>\n",
       "      <td>NaN</td>\n",
       "      <td>NaN</td>\n",
       "      <td>5d5d4fd16d5f3b23d1bc7905</td>\n",
       "      <td>Cogs</td>\n",
       "    </tr>\n",
       "    <tr>\n",
       "      <th>596</th>\n",
       "      <td>5f298852be37ce7958c5952d</td>\n",
       "      <td>511111915287</td>\n",
       "      <td>HEALTH</td>\n",
       "      <td>Health Magazine</td>\n",
       "      <td>Magazines</td>\n",
       "      <td>MAGAZINES</td>\n",
       "      <td>NaN</td>\n",
       "      <td>5d66b9dcee7f2d201c7281cd</td>\n",
       "      <td>Cogs</td>\n",
       "    </tr>\n",
       "    <tr>\n",
       "      <th>1074</th>\n",
       "      <td>5c7d9cb395144c337a3cbfbb</td>\n",
       "      <td>511111707202</td>\n",
       "      <td>HUGGIES</td>\n",
       "      <td>Huggies</td>\n",
       "      <td>Baby</td>\n",
       "      <td>BABY</td>\n",
       "      <td>1.0</td>\n",
       "      <td>5459429be4b0bfcb1e864082</td>\n",
       "      <td>Cogs</td>\n",
       "    </tr>\n",
       "    <tr>\n",
       "      <th>628</th>\n",
       "      <td>5bd2011f90fa074576779a17</td>\n",
       "      <td>511111704652</td>\n",
       "      <td>HUGGIES</td>\n",
       "      <td>Huggies</td>\n",
       "      <td>Baby</td>\n",
       "      <td>NaN</td>\n",
       "      <td>0.0</td>\n",
       "      <td>550b2565e4b001d5e9e4146f</td>\n",
       "      <td>Cogs</td>\n",
       "    </tr>\n",
       "    <tr>\n",
       "      <th>846</th>\n",
       "      <td>5e710dd5ee7f2d0b35b2a193</td>\n",
       "      <td>511111314097</td>\n",
       "      <td>I CAN'T BELIEVE IT'S NOT BUTTER</td>\n",
       "      <td>I CAN'T BELIEVE IT'S NOT BUTTER!</td>\n",
       "      <td>Dairy &amp; Refrigerated</td>\n",
       "      <td>DAIRY_AND_REFRIGERATED</td>\n",
       "      <td>NaN</td>\n",
       "      <td>5e5ea9cc9c50da1291a6d074</td>\n",
       "      <td>Cogs</td>\n",
       "    </tr>\n",
       "    <tr>\n",
       "      <th>176</th>\n",
       "      <td>592486bee410d61fcea3d12d</td>\n",
       "      <td>511111700814</td>\n",
       "      <td>I CAN'T BELIEVE IT'S NOT BUTTER!</td>\n",
       "      <td>I CAN'T BELIEVE IT'S NOT BUTTER!</td>\n",
       "      <td>Dairy</td>\n",
       "      <td>NaN</td>\n",
       "      <td>NaN</td>\n",
       "      <td>53e10d6368abd3c7065097cc</td>\n",
       "      <td>Cogs</td>\n",
       "    </tr>\n",
       "    <tr>\n",
       "      <th>339</th>\n",
       "      <td>5e5ff265ee7f2d0b35b2a18f</td>\n",
       "      <td>511111914051</td>\n",
       "      <td>ONE A DAY® WOMENS</td>\n",
       "      <td>ONE A DAY® WOMENS</td>\n",
       "      <td>Health &amp; Wellness</td>\n",
       "      <td>NaN</td>\n",
       "      <td>NaN</td>\n",
       "      <td>53e10d6368abd3c7065097cc</td>\n",
       "      <td>Cogs</td>\n",
       "    </tr>\n",
       "    <tr>\n",
       "      <th>64</th>\n",
       "      <td>5da609991dda2c3e1416ae90</td>\n",
       "      <td>511111805854</td>\n",
       "      <td>511111805854</td>\n",
       "      <td>ONE A DAY® WOMENS</td>\n",
       "      <td>Health &amp; Wellness</td>\n",
       "      <td>NaN</td>\n",
       "      <td>0.0</td>\n",
       "      <td>53e10d6368abd3c7065097cc</td>\n",
       "      <td>Cogs</td>\n",
       "    </tr>\n",
       "    <tr>\n",
       "      <th>978</th>\n",
       "      <td>5db3288aee7f2d6de4248977</td>\n",
       "      <td>511111312949</td>\n",
       "      <td>PULLUPS</td>\n",
       "      <td>Pull-Ups</td>\n",
       "      <td>Baby</td>\n",
       "      <td>NaN</td>\n",
       "      <td>1.0</td>\n",
       "      <td>550b2565e4b001d5e9e4146f</td>\n",
       "      <td>Cogs</td>\n",
       "    </tr>\n",
       "    <tr>\n",
       "      <th>126</th>\n",
       "      <td>5bd201a990fa074576779a19</td>\n",
       "      <td>511111104698</td>\n",
       "      <td>PULL UPS</td>\n",
       "      <td>Pull-Ups</td>\n",
       "      <td>Baby</td>\n",
       "      <td>NaN</td>\n",
       "      <td>0.0</td>\n",
       "      <td>550b2565e4b001d5e9e4146f</td>\n",
       "      <td>Cogs</td>\n",
       "    </tr>\n",
       "    <tr>\n",
       "      <th>282</th>\n",
       "      <td>5332f608e4b03c9a25efd0c1</td>\n",
       "      <td>511111903901</td>\n",
       "      <td>NaN</td>\n",
       "      <td>Sierra Mist</td>\n",
       "      <td>NaN</td>\n",
       "      <td>NaN</td>\n",
       "      <td>NaN</td>\n",
       "      <td>53e10d6368abd3c7065097cc</td>\n",
       "      <td>Cpgs</td>\n",
       "    </tr>\n",
       "    <tr>\n",
       "      <th>1116</th>\n",
       "      <td>5d66e07da3a018093ab3472d</td>\n",
       "      <td>511111205500</td>\n",
       "      <td>SIERRA MIST</td>\n",
       "      <td>Sierra Mist</td>\n",
       "      <td>Beverages</td>\n",
       "      <td>NaN</td>\n",
       "      <td>NaN</td>\n",
       "      <td>5332f5fbe4b03c9a25efd0ba</td>\n",
       "      <td>Cogs</td>\n",
       "    </tr>\n",
       "    <tr>\n",
       "      <th>477</th>\n",
       "      <td>5bcdfc5a965c7d66d92731e9</td>\n",
       "      <td>511111304616</td>\n",
       "      <td>NaN</td>\n",
       "      <td>V8 Hydrate</td>\n",
       "      <td>Beverages</td>\n",
       "      <td>NaN</td>\n",
       "      <td>NaN</td>\n",
       "      <td>53e10d6368abd3c7065097cc</td>\n",
       "      <td>Cogs</td>\n",
       "    </tr>\n",
       "    <tr>\n",
       "      <th>1025</th>\n",
       "      <td>5bcdfc5990fa074576779a15</td>\n",
       "      <td>511111804604</td>\n",
       "      <td>V8 HYDRATE</td>\n",
       "      <td>V8 Hydrate</td>\n",
       "      <td>Beverages</td>\n",
       "      <td>NaN</td>\n",
       "      <td>0.0</td>\n",
       "      <td>5a734034e4b0d58f376be874</td>\n",
       "      <td>Cogs</td>\n",
       "    </tr>\n",
       "  </tbody>\n",
       "</table>\n",
       "</div>"
      ],
      "text/plain": [
       "                      brand_id       barcode  \\\n",
       "848   585a961fe4b03e62d1ce0e76  511111701781   \n",
       "574   5d9d08d1a60b87376833e348  511111605546   \n",
       "140   5a4d23dae4b0bcb2c74ea77e  511111000518   \n",
       "740   5d601d74a3a018514994f422  511111004912   \n",
       "1007  5d658ffa6d5f3b23d1bc7914  511111205227   \n",
       "1006  5d66d597a3a018093ab34726  511111805298   \n",
       "1163  5dc1fca91dda2c0ad7da64ae  511111706328   \n",
       "1081  5dc2d9d4a60b873d6b0666d2  511111206330   \n",
       "194   5d6415d5a3a018514994f429  511111605058   \n",
       "596   5f298852be37ce7958c5952d  511111915287   \n",
       "1074  5c7d9cb395144c337a3cbfbb  511111707202   \n",
       "628   5bd2011f90fa074576779a17  511111704652   \n",
       "846   5e710dd5ee7f2d0b35b2a193  511111314097   \n",
       "176   592486bee410d61fcea3d12d  511111700814   \n",
       "339   5e5ff265ee7f2d0b35b2a18f  511111914051   \n",
       "64    5da609991dda2c3e1416ae90  511111805854   \n",
       "978   5db3288aee7f2d6de4248977  511111312949   \n",
       "126   5bd201a990fa074576779a19  511111104698   \n",
       "282   5332f608e4b03c9a25efd0c1  511111903901   \n",
       "1116  5d66e07da3a018093ab3472d  511111205500   \n",
       "477   5bcdfc5a965c7d66d92731e9  511111304616   \n",
       "1025  5bcdfc5990fa074576779a15  511111804604   \n",
       "\n",
       "                            brand_code                        brand_name  \\\n",
       "848                          BAKEN-ETS                         Baken-Ets   \n",
       "574                          BAKEN ETS                         Baken-Ets   \n",
       "140                       CALEB'S KOLA                      Caleb's Kola   \n",
       "740                        CALEBS KOLA                      Caleb's Kola   \n",
       "1007                               NaN          Diabetic Living Magazine   \n",
       "1006                      511111805298          Diabetic Living Magazine   \n",
       "1163                DIPPIN DOTS CEREAL               Dippin Dots® Cereal   \n",
       "1081                       DIPPIN DOTS               Dippin Dots® Cereal   \n",
       "194                       511111605058                   Health Magazine   \n",
       "596                             HEALTH                   Health Magazine   \n",
       "1074                           HUGGIES                           Huggies   \n",
       "628                            HUGGIES                           Huggies   \n",
       "846    I CAN'T BELIEVE IT'S NOT BUTTER  I CAN'T BELIEVE IT'S NOT BUTTER!   \n",
       "176   I CAN'T BELIEVE IT'S NOT BUTTER!  I CAN'T BELIEVE IT'S NOT BUTTER!   \n",
       "339                  ONE A DAY® WOMENS                 ONE A DAY® WOMENS   \n",
       "64                        511111805854                 ONE A DAY® WOMENS   \n",
       "978                            PULLUPS                          Pull-Ups   \n",
       "126                           PULL UPS                          Pull-Ups   \n",
       "282                                NaN                       Sierra Mist   \n",
       "1116                       SIERRA MIST                       Sierra Mist   \n",
       "477                                NaN                        V8 Hydrate   \n",
       "1025                        V8 HYDRATE                        V8 Hydrate   \n",
       "\n",
       "                  category           category_code  top_brand  \\\n",
       "848                 Snacks                     NaN        1.0   \n",
       "574                 Snacks                     NaN        NaN   \n",
       "140              Beverages                     NaN        0.0   \n",
       "740                 Snacks                     NaN        NaN   \n",
       "1007                   NaN                     NaN        NaN   \n",
       "1006             Magazines                     NaN        NaN   \n",
       "1163    Breakfast & Cereal                     NaN        NaN   \n",
       "1081    Breakfast & Cereal                     NaN        NaN   \n",
       "194              Magazines                     NaN        NaN   \n",
       "596              Magazines               MAGAZINES        NaN   \n",
       "1074                  Baby                    BABY        1.0   \n",
       "628                   Baby                     NaN        0.0   \n",
       "846   Dairy & Refrigerated  DAIRY_AND_REFRIGERATED        NaN   \n",
       "176                  Dairy                     NaN        NaN   \n",
       "339      Health & Wellness                     NaN        NaN   \n",
       "64       Health & Wellness                     NaN        0.0   \n",
       "978                   Baby                     NaN        1.0   \n",
       "126                   Baby                     NaN        0.0   \n",
       "282                    NaN                     NaN        NaN   \n",
       "1116             Beverages                     NaN        NaN   \n",
       "477              Beverages                     NaN        NaN   \n",
       "1025             Beverages                     NaN        0.0   \n",
       "\n",
       "                        cpg_id cpg_ref  \n",
       "848   5332f5fbe4b03c9a25efd0ba    Cogs  \n",
       "574   5332f5fbe4b03c9a25efd0ba    Cogs  \n",
       "140   5332f5fbe4b03c9a25efd0ba    Cogs  \n",
       "740   53e10d6368abd3c7065097cc    Cogs  \n",
       "1007  53e10d6368abd3c7065097cc    Cogs  \n",
       "1006  5d5d4fd16d5f3b23d1bc7905    Cogs  \n",
       "1163  53e10d6368abd3c7065097cc    Cogs  \n",
       "1081  5332f5f3e4b03c9a25efd0ae    Cogs  \n",
       "194   5d5d4fd16d5f3b23d1bc7905    Cogs  \n",
       "596   5d66b9dcee7f2d201c7281cd    Cogs  \n",
       "1074  5459429be4b0bfcb1e864082    Cogs  \n",
       "628   550b2565e4b001d5e9e4146f    Cogs  \n",
       "846   5e5ea9cc9c50da1291a6d074    Cogs  \n",
       "176   53e10d6368abd3c7065097cc    Cogs  \n",
       "339   53e10d6368abd3c7065097cc    Cogs  \n",
       "64    53e10d6368abd3c7065097cc    Cogs  \n",
       "978   550b2565e4b001d5e9e4146f    Cogs  \n",
       "126   550b2565e4b001d5e9e4146f    Cogs  \n",
       "282   53e10d6368abd3c7065097cc    Cpgs  \n",
       "1116  5332f5fbe4b03c9a25efd0ba    Cogs  \n",
       "477   53e10d6368abd3c7065097cc    Cogs  \n",
       "1025  5a734034e4b0d58f376be874    Cogs  "
      ]
     },
     "execution_count": 24,
     "metadata": {},
     "output_type": "execute_result"
    }
   ],
   "source": [
    "brands_df[brands_df.duplicated(subset=['brand_name'], keep=False)].sort_values(by='brand_name')"
   ]
  },
  {
   "cell_type": "code",
   "execution_count": 25,
   "id": "ef19795e-2de3-411a-a038-61e92969d15e",
   "metadata": {},
   "outputs": [
    {
     "data": {
      "text/plain": [
       "22"
      ]
     },
     "execution_count": 25,
     "metadata": {},
     "output_type": "execute_result"
    }
   ],
   "source": [
    "brands_df.duplicated(subset=['brand_name'], keep=False).sum()"
   ]
  },
  {
   "cell_type": "code",
   "execution_count": 26,
   "id": "3920c348-9ea7-4d4a-b1cc-1cea0adff53f",
   "metadata": {},
   "outputs": [],
   "source": [
    "# Decision: Drop duplicates in 'barcode', keeping the row where 'top_brand' is NOT null\n",
    "brands_df = brands_df.sort_values(by=['top_brand'], ascending=False).drop_duplicates(subset='barcode', keep='first')"
   ]
  },
  {
   "cell_type": "code",
   "execution_count": 27,
   "id": "477adb6d-92ef-4c62-b47a-3f5fcc446cae",
   "metadata": {},
   "outputs": [
    {
     "data": {
      "text/html": [
       "<div>\n",
       "<style scoped>\n",
       "    .dataframe tbody tr th:only-of-type {\n",
       "        vertical-align: middle;\n",
       "    }\n",
       "\n",
       "    .dataframe tbody tr th {\n",
       "        vertical-align: top;\n",
       "    }\n",
       "\n",
       "    .dataframe thead th {\n",
       "        text-align: right;\n",
       "    }\n",
       "</style>\n",
       "<table border=\"1\" class=\"dataframe\">\n",
       "  <thead>\n",
       "    <tr style=\"text-align: right;\">\n",
       "      <th></th>\n",
       "      <th>brand_id</th>\n",
       "      <th>barcode</th>\n",
       "      <th>brand_code</th>\n",
       "      <th>brand_name</th>\n",
       "      <th>category</th>\n",
       "      <th>category_code</th>\n",
       "      <th>top_brand</th>\n",
       "      <th>cpg_id</th>\n",
       "      <th>cpg_ref</th>\n",
       "    </tr>\n",
       "  </thead>\n",
       "  <tbody>\n",
       "    <tr>\n",
       "      <th>1012</th>\n",
       "      <td>5c4637ba87ff35681e840d57</td>\n",
       "      <td>511111605058</td>\n",
       "      <td>09090909090</td>\n",
       "      <td>Brand2</td>\n",
       "      <td>Dairy</td>\n",
       "      <td>NaN</td>\n",
       "      <td>1.0</td>\n",
       "      <td>5c45f8b087ff3552f950f026</td>\n",
       "      <td>Cogs</td>\n",
       "    </tr>\n",
       "    <tr>\n",
       "      <th>467</th>\n",
       "      <td>5c409ab4cd244a3539b84162</td>\n",
       "      <td>511111004790</td>\n",
       "      <td>ALEXA</td>\n",
       "      <td>alexa</td>\n",
       "      <td>Baking</td>\n",
       "      <td>NaN</td>\n",
       "      <td>1.0</td>\n",
       "      <td>55b62995e4b0d8e685c14213</td>\n",
       "      <td>Cogs</td>\n",
       "    </tr>\n",
       "    <tr>\n",
       "      <th>152</th>\n",
       "      <td>5c45f91b87ff3552f950f027</td>\n",
       "      <td>511111204923</td>\n",
       "      <td>0987654321</td>\n",
       "      <td>Brand1</td>\n",
       "      <td>Grocery</td>\n",
       "      <td>NaN</td>\n",
       "      <td>1.0</td>\n",
       "      <td>5c45f8b087ff3552f950f026</td>\n",
       "      <td>Cogs</td>\n",
       "    </tr>\n",
       "    <tr>\n",
       "      <th>1002</th>\n",
       "      <td>5a8c344ae4b0ccf165fac9e5</td>\n",
       "      <td>511111704140</td>\n",
       "      <td>PREGO</td>\n",
       "      <td>Prego</td>\n",
       "      <td>Condiments &amp; Sauces</td>\n",
       "      <td>NaN</td>\n",
       "      <td>0.0</td>\n",
       "      <td>5a734034e4b0d58f376be874</td>\n",
       "      <td>Cogs</td>\n",
       "    </tr>\n",
       "    <tr>\n",
       "      <th>299</th>\n",
       "      <td>5a8c33f3e4b07f0a2dac8943</td>\n",
       "      <td>511111504139</td>\n",
       "      <td>PACE</td>\n",
       "      <td>Pace</td>\n",
       "      <td>Grocery</td>\n",
       "      <td>NaN</td>\n",
       "      <td>0.0</td>\n",
       "      <td>5a734034e4b0d58f376be874</td>\n",
       "      <td>Cogs</td>\n",
       "    </tr>\n",
       "  </tbody>\n",
       "</table>\n",
       "</div>"
      ],
      "text/plain": [
       "                      brand_id       barcode   brand_code brand_name  \\\n",
       "1012  5c4637ba87ff35681e840d57  511111605058  09090909090     Brand2   \n",
       "467   5c409ab4cd244a3539b84162  511111004790        ALEXA      alexa   \n",
       "152   5c45f91b87ff3552f950f027  511111204923   0987654321     Brand1   \n",
       "1002  5a8c344ae4b0ccf165fac9e5  511111704140        PREGO      Prego   \n",
       "299   5a8c33f3e4b07f0a2dac8943  511111504139         PACE       Pace   \n",
       "\n",
       "                 category category_code  top_brand                    cpg_id  \\\n",
       "1012                Dairy           NaN        1.0  5c45f8b087ff3552f950f026   \n",
       "467                Baking           NaN        1.0  55b62995e4b0d8e685c14213   \n",
       "152               Grocery           NaN        1.0  5c45f8b087ff3552f950f026   \n",
       "1002  Condiments & Sauces           NaN        0.0  5a734034e4b0d58f376be874   \n",
       "299               Grocery           NaN        0.0  5a734034e4b0d58f376be874   \n",
       "\n",
       "     cpg_ref  \n",
       "1012    Cogs  \n",
       "467     Cogs  \n",
       "152     Cogs  \n",
       "1002    Cogs  \n",
       "299     Cogs  "
      ]
     },
     "execution_count": 27,
     "metadata": {},
     "output_type": "execute_result"
    }
   ],
   "source": [
    "brands_df[brands_df['barcode'].isin([511111004790, 511111204923, 511111504139, 511111605058, 511111704140])]"
   ]
  },
  {
   "cell_type": "code",
   "execution_count": 28,
   "id": "8153b415-2248-4c30-b060-227f2bb1fb21",
   "metadata": {},
   "outputs": [
    {
     "data": {
      "text/html": [
       "<div>\n",
       "<style scoped>\n",
       "    .dataframe tbody tr th:only-of-type {\n",
       "        vertical-align: middle;\n",
       "    }\n",
       "\n",
       "    .dataframe tbody tr th {\n",
       "        vertical-align: top;\n",
       "    }\n",
       "\n",
       "    .dataframe thead th {\n",
       "        text-align: right;\n",
       "    }\n",
       "</style>\n",
       "<table border=\"1\" class=\"dataframe\">\n",
       "  <thead>\n",
       "    <tr style=\"text-align: right;\">\n",
       "      <th></th>\n",
       "      <th>brand_id</th>\n",
       "      <th>barcode</th>\n",
       "      <th>brand_code</th>\n",
       "      <th>brand_name</th>\n",
       "      <th>category</th>\n",
       "      <th>category_code</th>\n",
       "      <th>top_brand</th>\n",
       "      <th>cpg_id</th>\n",
       "      <th>cpg_ref</th>\n",
       "    </tr>\n",
       "  </thead>\n",
       "  <tbody>\n",
       "    <tr>\n",
       "      <th>723</th>\n",
       "      <td>55b6309ce4b0d8e685c1421b</td>\n",
       "      <td>511111702665</td>\n",
       "      <td>BRAND CODE</td>\n",
       "      <td>7 up</td>\n",
       "      <td>Beverages</td>\n",
       "      <td>NaN</td>\n",
       "      <td>1.0</td>\n",
       "      <td>55b62995e4b0d8e685c14213</td>\n",
       "      <td>Cogs</td>\n",
       "    </tr>\n",
       "    <tr>\n",
       "      <th>58</th>\n",
       "      <td>5c76d3cd95144c5375687b4f</td>\n",
       "      <td>511111106876</td>\n",
       "      <td>TEST BRAND CODE</td>\n",
       "      <td>DASH-2249 Brand1</td>\n",
       "      <td>Grocery</td>\n",
       "      <td>NaN</td>\n",
       "      <td>1.0</td>\n",
       "      <td>5c76d20595144c5375687b4e</td>\n",
       "      <td>Cogs</td>\n",
       "    </tr>\n",
       "    <tr>\n",
       "      <th>109</th>\n",
       "      <td>585a9645e4b03e62d1ce0e79</td>\n",
       "      <td>511111801757</td>\n",
       "      <td>CHESTER'S</td>\n",
       "      <td>Chester's</td>\n",
       "      <td>Snacks</td>\n",
       "      <td>NaN</td>\n",
       "      <td>1.0</td>\n",
       "      <td>5332f5fbe4b03c9a25efd0ba</td>\n",
       "      <td>Cogs</td>\n",
       "    </tr>\n",
       "    <tr>\n",
       "      <th>115</th>\n",
       "      <td>5887a372e4b02187f85cdad9</td>\n",
       "      <td>511111001119</td>\n",
       "      <td>DORITOS</td>\n",
       "      <td>Doritos</td>\n",
       "      <td>Snacks</td>\n",
       "      <td>NaN</td>\n",
       "      <td>1.0</td>\n",
       "      <td>5332f5fbe4b03c9a25efd0ba</td>\n",
       "      <td>Cogs</td>\n",
       "    </tr>\n",
       "    <tr>\n",
       "      <th>116</th>\n",
       "      <td>57ed0697e4b072ac2294b8f2</td>\n",
       "      <td>511111101895</td>\n",
       "      <td>A.1.</td>\n",
       "      <td>A.1.</td>\n",
       "      <td>Condiments &amp; Sauces</td>\n",
       "      <td>NaN</td>\n",
       "      <td>1.0</td>\n",
       "      <td>559c2234e4b06aca36af13c6</td>\n",
       "      <td>Cogs</td>\n",
       "    </tr>\n",
       "  </tbody>\n",
       "</table>\n",
       "</div>"
      ],
      "text/plain": [
       "                     brand_id       barcode       brand_code  \\\n",
       "723  55b6309ce4b0d8e685c1421b  511111702665       BRAND CODE   \n",
       "58   5c76d3cd95144c5375687b4f  511111106876  TEST BRAND CODE   \n",
       "109  585a9645e4b03e62d1ce0e79  511111801757        CHESTER'S   \n",
       "115  5887a372e4b02187f85cdad9  511111001119          DORITOS   \n",
       "116  57ed0697e4b072ac2294b8f2  511111101895             A.1.   \n",
       "\n",
       "           brand_name             category category_code  top_brand  \\\n",
       "723              7 up            Beverages           NaN        1.0   \n",
       "58   DASH-2249 Brand1              Grocery           NaN        1.0   \n",
       "109         Chester's               Snacks           NaN        1.0   \n",
       "115           Doritos               Snacks           NaN        1.0   \n",
       "116              A.1.  Condiments & Sauces           NaN        1.0   \n",
       "\n",
       "                       cpg_id cpg_ref  \n",
       "723  55b62995e4b0d8e685c14213    Cogs  \n",
       "58   5c76d20595144c5375687b4e    Cogs  \n",
       "109  5332f5fbe4b03c9a25efd0ba    Cogs  \n",
       "115  5332f5fbe4b03c9a25efd0ba    Cogs  \n",
       "116  559c2234e4b06aca36af13c6    Cogs  "
      ]
     },
     "execution_count": 28,
     "metadata": {},
     "output_type": "execute_result"
    }
   ],
   "source": [
    "brands_df.head()"
   ]
  },
  {
   "cell_type": "code",
   "execution_count": 29,
   "id": "2071df82-33bc-47f1-a45e-84868fee0425",
   "metadata": {},
   "outputs": [],
   "source": [
    "# brands_df['brand_name'] = brands_df['brand_name'].str.strip()\n",
    "# brands_df['category'] = brands_df['category'].str.strip()\n",
    "# brands_df['category_code'] = brands_df['category_code'].str.strip().str.upper()"
   ]
  },
  {
   "cell_type": "code",
   "execution_count": 30,
   "id": "b0b60fef-0217-4610-b329-d5b462b1ef55",
   "metadata": {},
   "outputs": [
    {
     "data": {
      "text/plain": [
       "category                     category_code                \n",
       "Baby                         BABY                              7\n",
       "Baking                       BAKING                            2\n",
       "Beer Wine Spirits            BEER_WINE_SPIRITS                31\n",
       "Beverages                    BEVERAGES                         1\n",
       "Bread & Bakery               BREAD_AND_BAKERY                  5\n",
       "Cleaning & Home Improvement  CLEANING_AND_HOME_IMPROVEMENT     6\n",
       "Dairy & Refrigerated         DAIRY_AND_REFRIGERATED            5\n",
       "Frozen                       FROZEN                            1\n",
       "Grocery                      GROCERY                          11\n",
       "Health & Wellness            HEALTHY_AND_WELLNESS             14\n",
       "Magazines                    MAGAZINES                         1\n",
       "Outdoor                      OUTDOOR                           1\n",
       "Personal Care                PERSONAL_CARE                     4\n",
       "dtype: int64"
      ]
     },
     "execution_count": 30,
     "metadata": {},
     "output_type": "execute_result"
    }
   ],
   "source": [
    "brands_df.groupby(['category','category_code']).size()"
   ]
  },
  {
   "cell_type": "code",
   "execution_count": 31,
   "id": "93252882-e2d6-46b9-a31c-aa900514b1dd",
   "metadata": {},
   "outputs": [
    {
     "data": {
      "text/plain": [
       "category\n",
       "Baby                      10\n",
       "Baking                     9\n",
       "Beauty                     9\n",
       "Beauty & Personal Care     6\n",
       "Beer Wine Spirits         59\n",
       "Beverages                 61\n",
       "Breakfast & Cereal        40\n",
       "Canned Goods & Soups      12\n",
       "Condiments & Sauces       26\n",
       "Dairy                     33\n",
       "Deli                       6\n",
       "Frozen                    23\n",
       "Grocery                   27\n",
       "Health & Wellness         30\n",
       "Household                  5\n",
       "Magazines                 41\n",
       "Personal Care             16\n",
       "Snacks                    74\n",
       "dtype: int64"
      ]
     },
     "execution_count": 31,
     "metadata": {},
     "output_type": "execute_result"
    }
   ],
   "source": [
    "brands_df[brands_df['category_code'].isna()].groupby(['category']).size()"
   ]
  },
  {
   "cell_type": "code",
   "execution_count": 32,
   "id": "e8bc3268-fdd1-41fc-92a2-7d94cd00f202",
   "metadata": {},
   "outputs": [],
   "source": [
    "category_to_code = {    \n",
    "    # Existing Mappings\n",
    "    'Baby': 'BABY',\n",
    "    'Beverages': 'BEVERAGES',\n",
    "    'Beer Wine Spirits': 'BEER_WINE_SPIRITS',\n",
    "    'Bread & Bakery': 'BREAD_AND_BAKERY',\n",
    "    'Cleaning & Home Improvement': 'CLEANING_AND_HOME_IMPROVEMENT',\n",
    "    'Dairy & Refrigerated': 'DAIRY_AND_REFRIGERATED',\n",
    "    'Frozen': 'FROZEN',\n",
    "    'Grocery': 'GROCERY',\n",
    "    'Magazines': 'MAGAZINES',\n",
    "    'Outdoor': 'OUTDOOR',\n",
    "    'Personal Care': 'PERSONAL_CARE',\n",
    "    'Health & Wellness': 'HEALTHY_AND_WELLNESS',\n",
    "    'Candy & Sweets': 'CANDY_AND_SWEETS',\n",
    "\n",
    "    # Best Judgement Mappings\n",
    "    'Baking': 'BAKING',\n",
    "    'Beauty': 'BEAUTY_AND_PERSONAL_CARE',\n",
    "    'Beauty & Personal Care': 'BEAUTY_AND_PERSONAL_CARE', \n",
    "    'Breakfast & Cereal': 'BREAKFAST_AND_CEREAL',\n",
    "    'Canned Goods & Soups': 'CANNED_GOODS_AND_SOUPS',\n",
    "    'Condiments & Sauces': 'CONDIMENTS_AND_SAUCES',\n",
    "    'Dairy': 'DAIRY_AND_REFRIGERATED',  \n",
    "    'Deli': 'DELI',\n",
    "    'Household': 'HOUSEHOLD',\n",
    "    'Snacks': 'SNACKS'\n",
    "}"
   ]
  },
  {
   "cell_type": "code",
   "execution_count": 33,
   "id": "a4fd6522-5a34-4d19-9f45-2307a5225231",
   "metadata": {},
   "outputs": [],
   "source": [
    "brands_df['category_code'] = brands_df.apply(\n",
    "    lambda row: category_to_code.get(row['category'], row['category_code']),\n",
    "    axis=1\n",
    ")\n",
    "brands_df['category_code'].fillna('UNKNOWN', inplace=True)"
   ]
  },
  {
   "cell_type": "code",
   "execution_count": 34,
   "id": "78b7d10a-c378-435f-8743-8ac93cd64b3a",
   "metadata": {},
   "outputs": [
    {
     "data": {
      "text/plain": [
       "category                     category_code                \n",
       "Baby                         BABY                             17\n",
       "Baking                       BAKING                           11\n",
       "Beauty                       BEAUTY_AND_PERSONAL_CARE          9\n",
       "Beauty & Personal Care       BEAUTY_AND_PERSONAL_CARE          6\n",
       "Beer Wine Spirits            BEER_WINE_SPIRITS                90\n",
       "Beverages                    BEVERAGES                        62\n",
       "Bread & Bakery               BREAD_AND_BAKERY                  5\n",
       "Breakfast & Cereal           BREAKFAST_AND_CEREAL             40\n",
       "Canned Goods & Soups         CANNED_GOODS_AND_SOUPS           12\n",
       "Cleaning & Home Improvement  CLEANING_AND_HOME_IMPROVEMENT     6\n",
       "Condiments & Sauces          CONDIMENTS_AND_SAUCES            26\n",
       "Dairy                        DAIRY_AND_REFRIGERATED           33\n",
       "Dairy & Refrigerated         DAIRY_AND_REFRIGERATED            5\n",
       "Deli                         DELI                              6\n",
       "Frozen                       FROZEN                           24\n",
       "Grocery                      GROCERY                          38\n",
       "Health & Wellness            HEALTHY_AND_WELLNESS             44\n",
       "Household                    HOUSEHOLD                         5\n",
       "Magazines                    MAGAZINES                        42\n",
       "Outdoor                      OUTDOOR                           1\n",
       "Personal Care                PERSONAL_CARE                    20\n",
       "Snacks                       SNACKS                           74\n",
       "dtype: int64"
      ]
     },
     "execution_count": 34,
     "metadata": {},
     "output_type": "execute_result"
    }
   ],
   "source": [
    "brands_df.groupby(['category','category_code']).size()"
   ]
  },
  {
   "cell_type": "code",
   "execution_count": 35,
   "id": "2545b916-8554-4dd6-9d7b-71cd1faec222",
   "metadata": {},
   "outputs": [
    {
     "data": {
      "text/plain": [
       "top_brand\n",
       "NaN    401\n",
       "0.0    300\n",
       "1.0     29\n",
       "Name: count, dtype: int64"
      ]
     },
     "execution_count": 35,
     "metadata": {},
     "output_type": "execute_result"
    }
   ],
   "source": [
    "brands_df['top_brand'].value_counts(dropna=False)"
   ]
  },
  {
   "cell_type": "code",
   "execution_count": 36,
   "id": "a62ad01c-50c1-4482-8633-bd55209a6dd4",
   "metadata": {},
   "outputs": [],
   "source": [
    "brands_df['top_brand'].fillna(0.0, inplace=True)"
   ]
  },
  {
   "cell_type": "markdown",
   "id": "e6722cef-1c57-4f42-816f-5f1a29406225",
   "metadata": {},
   "source": [
    "### Receipts & Items"
   ]
  },
  {
   "cell_type": "code",
   "execution_count": 37,
   "id": "786bcff9-9f58-4197-8316-3df3177c26a6",
   "metadata": {},
   "outputs": [],
   "source": [
    "receipts_stage_df = pd.read_json('./receipts.json', lines=True)\n",
    "\n",
    "receipts_stage_df['_id'] = receipts_stage_df['_id'].apply(lambda x: x['$oid'])\n",
    "\n",
    "date_columns = [\n",
    "    'createDate',\n",
    "    'dateScanned',\n",
    "    'finishedDate',\n",
    "    'modifyDate',\n",
    "    'pointsAwardedDate',\n",
    "    'purchaseDate'\n",
    "]\n",
    "\n",
    "for col in date_columns:\n",
    "    receipts_stage_df[col] = receipts_stage_df[col].apply(\n",
    "        lambda x: pd.to_datetime(x['$date'], unit='ms') \n",
    "        if isinstance(x, dict) \n",
    "        else pd.NaT\n",
    "    )\n",
    "\n",
    "receipts_df = receipts_stage_df.drop('rewardsReceiptItemList', axis=1).copy()\n",
    "\n",
    "receipts_df = receipts_df.rename(columns={\n",
    "    '_id': 'receipt_id',\n",
    "    'bonusPointsEarned': 'bonus_points_earned',\n",
    "    'bonusPointsEarnedReason': 'bonus_points_reason',\n",
    "    'createDate': 'create_date',\n",
    "    'dateScanned': 'date_scanned',\n",
    "    'finishedDate': 'finished_date',\n",
    "    'modifyDate': 'modify_date',\n",
    "    'pointsAwardedDate': 'points_awarded_date',\n",
    "    'pointsEarned': 'points_earned',\n",
    "    'purchaseDate': 'purchase_date',\n",
    "    'purchasedItemCount': 'purchased_item_count',\n",
    "    'rewardsReceiptStatus': 'receipt_status',\n",
    "    'totalSpent': 'total_spent',\n",
    "    'userId': 'user_id' \n",
    "})"
   ]
  },
  {
   "cell_type": "code",
   "execution_count": 38,
   "id": "1ba3550f-c096-4478-b9b6-d3b75b2bb4cb",
   "metadata": {},
   "outputs": [
    {
     "data": {
      "text/html": [
       "<div>\n",
       "<style scoped>\n",
       "    .dataframe tbody tr th:only-of-type {\n",
       "        vertical-align: middle;\n",
       "    }\n",
       "\n",
       "    .dataframe tbody tr th {\n",
       "        vertical-align: top;\n",
       "    }\n",
       "\n",
       "    .dataframe thead th {\n",
       "        text-align: right;\n",
       "    }\n",
       "</style>\n",
       "<table border=\"1\" class=\"dataframe\">\n",
       "  <thead>\n",
       "    <tr style=\"text-align: right;\">\n",
       "      <th></th>\n",
       "      <th>receipt_id</th>\n",
       "      <th>bonus_points_earned</th>\n",
       "      <th>bonus_points_reason</th>\n",
       "      <th>create_date</th>\n",
       "      <th>date_scanned</th>\n",
       "      <th>finished_date</th>\n",
       "      <th>modify_date</th>\n",
       "      <th>points_awarded_date</th>\n",
       "      <th>points_earned</th>\n",
       "      <th>purchase_date</th>\n",
       "      <th>purchased_item_count</th>\n",
       "      <th>receipt_status</th>\n",
       "      <th>total_spent</th>\n",
       "      <th>user_id</th>\n",
       "    </tr>\n",
       "  </thead>\n",
       "  <tbody>\n",
       "    <tr>\n",
       "      <th>0</th>\n",
       "      <td>5ff1e1eb0a720f0523000575</td>\n",
       "      <td>500.0</td>\n",
       "      <td>Receipt number 2 completed, bonus point schedu...</td>\n",
       "      <td>2021-01-03 15:25:31</td>\n",
       "      <td>2021-01-03 15:25:31</td>\n",
       "      <td>2021-01-03 15:25:31</td>\n",
       "      <td>2021-01-03 15:25:36</td>\n",
       "      <td>2021-01-03 15:25:31</td>\n",
       "      <td>500.0</td>\n",
       "      <td>2021-01-03 00:00:00</td>\n",
       "      <td>5.0</td>\n",
       "      <td>FINISHED</td>\n",
       "      <td>26.0</td>\n",
       "      <td>5ff1e1eacfcf6c399c274ae6</td>\n",
       "    </tr>\n",
       "    <tr>\n",
       "      <th>1</th>\n",
       "      <td>5ff1e1bb0a720f052300056b</td>\n",
       "      <td>150.0</td>\n",
       "      <td>Receipt number 5 completed, bonus point schedu...</td>\n",
       "      <td>2021-01-03 15:24:43</td>\n",
       "      <td>2021-01-03 15:24:43</td>\n",
       "      <td>2021-01-03 15:24:43</td>\n",
       "      <td>2021-01-03 15:24:48</td>\n",
       "      <td>2021-01-03 15:24:43</td>\n",
       "      <td>150.0</td>\n",
       "      <td>2021-01-02 15:24:43</td>\n",
       "      <td>2.0</td>\n",
       "      <td>FINISHED</td>\n",
       "      <td>11.0</td>\n",
       "      <td>5ff1e194b6a9d73a3a9f1052</td>\n",
       "    </tr>\n",
       "    <tr>\n",
       "      <th>2</th>\n",
       "      <td>5ff1e1f10a720f052300057a</td>\n",
       "      <td>5.0</td>\n",
       "      <td>All-receipts receipt bonus</td>\n",
       "      <td>2021-01-03 15:25:37</td>\n",
       "      <td>2021-01-03 15:25:37</td>\n",
       "      <td>NaT</td>\n",
       "      <td>2021-01-03 15:25:42</td>\n",
       "      <td>NaT</td>\n",
       "      <td>5.0</td>\n",
       "      <td>2021-01-03 00:00:00</td>\n",
       "      <td>1.0</td>\n",
       "      <td>REJECTED</td>\n",
       "      <td>10.0</td>\n",
       "      <td>5ff1e1f1cfcf6c399c274b0b</td>\n",
       "    </tr>\n",
       "    <tr>\n",
       "      <th>3</th>\n",
       "      <td>5ff1e1ee0a7214ada100056f</td>\n",
       "      <td>5.0</td>\n",
       "      <td>All-receipts receipt bonus</td>\n",
       "      <td>2021-01-03 15:25:34</td>\n",
       "      <td>2021-01-03 15:25:34</td>\n",
       "      <td>2021-01-03 15:25:34</td>\n",
       "      <td>2021-01-03 15:25:39</td>\n",
       "      <td>2021-01-03 15:25:34</td>\n",
       "      <td>5.0</td>\n",
       "      <td>2021-01-03 00:00:00</td>\n",
       "      <td>4.0</td>\n",
       "      <td>FINISHED</td>\n",
       "      <td>28.0</td>\n",
       "      <td>5ff1e1eacfcf6c399c274ae6</td>\n",
       "    </tr>\n",
       "    <tr>\n",
       "      <th>4</th>\n",
       "      <td>5ff1e1d20a7214ada1000561</td>\n",
       "      <td>5.0</td>\n",
       "      <td>All-receipts receipt bonus</td>\n",
       "      <td>2021-01-03 15:25:06</td>\n",
       "      <td>2021-01-03 15:25:06</td>\n",
       "      <td>2021-01-03 15:25:11</td>\n",
       "      <td>2021-01-03 15:25:11</td>\n",
       "      <td>2021-01-03 15:25:06</td>\n",
       "      <td>5.0</td>\n",
       "      <td>2021-01-02 15:25:06</td>\n",
       "      <td>2.0</td>\n",
       "      <td>FINISHED</td>\n",
       "      <td>1.0</td>\n",
       "      <td>5ff1e194b6a9d73a3a9f1052</td>\n",
       "    </tr>\n",
       "  </tbody>\n",
       "</table>\n",
       "</div>"
      ],
      "text/plain": [
       "                 receipt_id  bonus_points_earned  \\\n",
       "0  5ff1e1eb0a720f0523000575                500.0   \n",
       "1  5ff1e1bb0a720f052300056b                150.0   \n",
       "2  5ff1e1f10a720f052300057a                  5.0   \n",
       "3  5ff1e1ee0a7214ada100056f                  5.0   \n",
       "4  5ff1e1d20a7214ada1000561                  5.0   \n",
       "\n",
       "                                 bonus_points_reason         create_date  \\\n",
       "0  Receipt number 2 completed, bonus point schedu... 2021-01-03 15:25:31   \n",
       "1  Receipt number 5 completed, bonus point schedu... 2021-01-03 15:24:43   \n",
       "2                         All-receipts receipt bonus 2021-01-03 15:25:37   \n",
       "3                         All-receipts receipt bonus 2021-01-03 15:25:34   \n",
       "4                         All-receipts receipt bonus 2021-01-03 15:25:06   \n",
       "\n",
       "         date_scanned       finished_date         modify_date  \\\n",
       "0 2021-01-03 15:25:31 2021-01-03 15:25:31 2021-01-03 15:25:36   \n",
       "1 2021-01-03 15:24:43 2021-01-03 15:24:43 2021-01-03 15:24:48   \n",
       "2 2021-01-03 15:25:37                 NaT 2021-01-03 15:25:42   \n",
       "3 2021-01-03 15:25:34 2021-01-03 15:25:34 2021-01-03 15:25:39   \n",
       "4 2021-01-03 15:25:06 2021-01-03 15:25:11 2021-01-03 15:25:11   \n",
       "\n",
       "  points_awarded_date  points_earned       purchase_date  \\\n",
       "0 2021-01-03 15:25:31          500.0 2021-01-03 00:00:00   \n",
       "1 2021-01-03 15:24:43          150.0 2021-01-02 15:24:43   \n",
       "2                 NaT            5.0 2021-01-03 00:00:00   \n",
       "3 2021-01-03 15:25:34            5.0 2021-01-03 00:00:00   \n",
       "4 2021-01-03 15:25:06            5.0 2021-01-02 15:25:06   \n",
       "\n",
       "   purchased_item_count receipt_status  total_spent                   user_id  \n",
       "0                   5.0       FINISHED         26.0  5ff1e1eacfcf6c399c274ae6  \n",
       "1                   2.0       FINISHED         11.0  5ff1e194b6a9d73a3a9f1052  \n",
       "2                   1.0       REJECTED         10.0  5ff1e1f1cfcf6c399c274b0b  \n",
       "3                   4.0       FINISHED         28.0  5ff1e1eacfcf6c399c274ae6  \n",
       "4                   2.0       FINISHED          1.0  5ff1e194b6a9d73a3a9f1052  "
      ]
     },
     "execution_count": 38,
     "metadata": {},
     "output_type": "execute_result"
    }
   ],
   "source": [
    "receipts_df.head()"
   ]
  },
  {
   "cell_type": "code",
   "execution_count": 39,
   "id": "e0ac9fa1-8af0-4610-8deb-2c48d97bc3af",
   "metadata": {},
   "outputs": [
    {
     "data": {
      "text/plain": [
       "(1119, 14)"
      ]
     },
     "execution_count": 39,
     "metadata": {},
     "output_type": "execute_result"
    }
   ],
   "source": [
    "receipts_df.shape"
   ]
  },
  {
   "cell_type": "code",
   "execution_count": 40,
   "id": "065ef4e0-c40c-49c9-8355-80902443612f",
   "metadata": {},
   "outputs": [
    {
     "data": {
      "text/plain": [
       "receipt_id                      object\n",
       "bonus_points_earned            float64\n",
       "bonus_points_reason             object\n",
       "create_date             datetime64[ns]\n",
       "date_scanned            datetime64[ns]\n",
       "finished_date           datetime64[ns]\n",
       "modify_date             datetime64[ns]\n",
       "points_awarded_date     datetime64[ns]\n",
       "points_earned                  float64\n",
       "purchase_date           datetime64[ns]\n",
       "purchased_item_count           float64\n",
       "receipt_status                  object\n",
       "total_spent                    float64\n",
       "user_id                         object\n",
       "dtype: object"
      ]
     },
     "execution_count": 40,
     "metadata": {},
     "output_type": "execute_result"
    }
   ],
   "source": [
    "receipts_df.dtypes"
   ]
  },
  {
   "cell_type": "code",
   "execution_count": 41,
   "id": "5d1b66c6-333d-47fc-ba3a-a164d31fb355",
   "metadata": {},
   "outputs": [
    {
     "data": {
      "text/plain": [
       "receipt_id                0\n",
       "bonus_points_earned     575\n",
       "bonus_points_reason     575\n",
       "create_date               0\n",
       "date_scanned              0\n",
       "finished_date           551\n",
       "modify_date               0\n",
       "points_awarded_date     582\n",
       "points_earned           510\n",
       "purchase_date           448\n",
       "purchased_item_count    484\n",
       "receipt_status            0\n",
       "total_spent             435\n",
       "user_id                   0\n",
       "dtype: int64"
      ]
     },
     "execution_count": 41,
     "metadata": {},
     "output_type": "execute_result"
    }
   ],
   "source": [
    "receipts_df.isnull().sum()"
   ]
  },
  {
   "cell_type": "code",
   "execution_count": 42,
   "id": "7381db95-1ce7-40ec-9ea6-4985374b2bb8",
   "metadata": {},
   "outputs": [
    {
     "data": {
      "text/plain": [
       "0"
      ]
     },
     "execution_count": 42,
     "metadata": {},
     "output_type": "execute_result"
    }
   ],
   "source": [
    "receipts_df.duplicated().sum()"
   ]
  },
  {
   "cell_type": "code",
   "execution_count": 43,
   "id": "d8326c40-68e3-4274-95d6-c67ccec30e05",
   "metadata": {},
   "outputs": [],
   "source": [
    "# Handle missing values for numeric columns\n",
    "numeric_cols = ['bonus_points_earned', 'points_earned', 'purchased_item_count', 'total_spent']\n",
    "receipts_df[numeric_cols] = receipts_df[numeric_cols].fillna(0)"
   ]
  },
  {
   "cell_type": "code",
   "execution_count": 44,
   "id": "72daff77-1797-45a5-9fca-ecf882a31115",
   "metadata": {},
   "outputs": [
    {
     "data": {
      "text/html": [
       "<div>\n",
       "<style scoped>\n",
       "    .dataframe tbody tr th:only-of-type {\n",
       "        vertical-align: middle;\n",
       "    }\n",
       "\n",
       "    .dataframe tbody tr th {\n",
       "        vertical-align: top;\n",
       "    }\n",
       "\n",
       "    .dataframe thead th {\n",
       "        text-align: right;\n",
       "    }\n",
       "</style>\n",
       "<table border=\"1\" class=\"dataframe\">\n",
       "  <thead>\n",
       "    <tr style=\"text-align: right;\">\n",
       "      <th></th>\n",
       "      <th>receipt_id</th>\n",
       "      <th>bonus_points_earned</th>\n",
       "      <th>bonus_points_reason</th>\n",
       "      <th>create_date</th>\n",
       "      <th>date_scanned</th>\n",
       "      <th>finished_date</th>\n",
       "      <th>modify_date</th>\n",
       "      <th>points_awarded_date</th>\n",
       "      <th>points_earned</th>\n",
       "      <th>purchase_date</th>\n",
       "      <th>purchased_item_count</th>\n",
       "      <th>receipt_status</th>\n",
       "      <th>total_spent</th>\n",
       "      <th>user_id</th>\n",
       "    </tr>\n",
       "  </thead>\n",
       "  <tbody>\n",
       "  </tbody>\n",
       "</table>\n",
       "</div>"
      ],
      "text/plain": [
       "Empty DataFrame\n",
       "Columns: [receipt_id, bonus_points_earned, bonus_points_reason, create_date, date_scanned, finished_date, modify_date, points_awarded_date, points_earned, purchase_date, purchased_item_count, receipt_status, total_spent, user_id]\n",
       "Index: []"
      ]
     },
     "execution_count": 44,
     "metadata": {},
     "output_type": "execute_result"
    }
   ],
   "source": [
    "receipts_df[receipts_df.duplicated(subset=['receipt_id'], keep=False)]"
   ]
  },
  {
   "cell_type": "code",
   "execution_count": 45,
   "id": "7bacbe9d-0447-415a-bf9a-92ee7c0a43c1",
   "metadata": {},
   "outputs": [
    {
     "data": {
      "text/plain": [
       "receipt_status\n",
       "FINISHED     518\n",
       "SUBMITTED    434\n",
       "REJECTED      71\n",
       "PENDING       50\n",
       "FLAGGED       46\n",
       "Name: count, dtype: int64"
      ]
     },
     "execution_count": 45,
     "metadata": {},
     "output_type": "execute_result"
    }
   ],
   "source": [
    "receipts_df['receipt_status'].value_counts(dropna=False)"
   ]
  },
  {
   "cell_type": "code",
   "execution_count": 46,
   "id": "01d262cf-a9e7-4382-a772-7e11401cf27e",
   "metadata": {},
   "outputs": [
    {
     "data": {
      "text/plain": [
       "bonus_points_reason\n",
       "NaN                                                                                    575\n",
       "All-receipts receipt bonus                                                             183\n",
       "Receipt number 1 completed, bonus point schedule DEFAULT (5cefdcacf3693e0b50e83a36)    119\n",
       "COMPLETE_NONPARTNER_RECEIPT                                                             71\n",
       "COMPLETE_PARTNER_RECEIPT                                                                39\n",
       "Receipt number 3 completed, bonus point schedule DEFAULT (5cefdcacf3693e0b50e83a36)     31\n",
       "Receipt number 2 completed, bonus point schedule DEFAULT (5cefdcacf3693e0b50e83a36)     30\n",
       "Receipt number 5 completed, bonus point schedule DEFAULT (5cefdcacf3693e0b50e83a36)     27\n",
       "Receipt number 4 completed, bonus point schedule DEFAULT (5cefdcacf3693e0b50e83a36)     26\n",
       "Receipt number 6 completed, bonus point schedule DEFAULT (5cefdcacf3693e0b50e83a36)     18\n",
       "Name: count, dtype: int64"
      ]
     },
     "execution_count": 46,
     "metadata": {},
     "output_type": "execute_result"
    }
   ],
   "source": [
    "receipts_df['bonus_points_reason'].value_counts(dropna=False)"
   ]
  },
  {
   "cell_type": "code",
   "execution_count": 47,
   "id": "c15c64a8-f02f-49ad-b431-3de4658e4b34",
   "metadata": {},
   "outputs": [
    {
     "data": {
      "text/plain": [
       "total_spent  purchased_item_count  points_earned\n",
       "0.00         0.0                   0.0              448\n",
       "                                   250.0              1\n",
       "                                   500.0              1\n",
       "0.16         1.0                   0.0                1\n",
       "2.23         0.0                   0.0                1\n",
       "3.00         3.0                   0.0                9\n",
       "3.09         1.0                   0.0                2\n",
       "4.00         4.0                   0.0                1\n",
       "6.18         2.0                   0.0                2\n",
       "28.57        0.0                   0.0               48\n",
       "2084.82      303.0                 0.0                1\n",
       "4368.80      599.0                 0.0                1\n",
       "dtype: int64"
      ]
     },
     "execution_count": 47,
     "metadata": {},
     "output_type": "execute_result"
    }
   ],
   "source": [
    "receipts_df[(receipts_df['total_spent']<=0) | (receipts_df['purchased_item_count']<=0) | (receipts_df['points_earned']<=0)]\\\n",
    "    .groupby(['total_spent','purchased_item_count','points_earned']).size()"
   ]
  },
  {
   "cell_type": "code",
   "execution_count": 48,
   "id": "1c7fdb36-8810-41ee-96c6-93e6adbf7fc6",
   "metadata": {},
   "outputs": [
    {
     "data": {
      "text/html": [
       "<div>\n",
       "<style scoped>\n",
       "    .dataframe tbody tr th:only-of-type {\n",
       "        vertical-align: middle;\n",
       "    }\n",
       "\n",
       "    .dataframe tbody tr th {\n",
       "        vertical-align: top;\n",
       "    }\n",
       "\n",
       "    .dataframe thead th {\n",
       "        text-align: right;\n",
       "    }\n",
       "</style>\n",
       "<table border=\"1\" class=\"dataframe\">\n",
       "  <thead>\n",
       "    <tr style=\"text-align: right;\">\n",
       "      <th></th>\n",
       "      <th>total_spent</th>\n",
       "      <th>purchased_item_count</th>\n",
       "      <th>points_earned</th>\n",
       "    </tr>\n",
       "  </thead>\n",
       "  <tbody>\n",
       "    <tr>\n",
       "      <th>count</th>\n",
       "      <td>1119.000000</td>\n",
       "      <td>1119.000000</td>\n",
       "      <td>1119.000000</td>\n",
       "    </tr>\n",
       "    <tr>\n",
       "      <th>mean</th>\n",
       "      <td>47.554111</td>\n",
       "      <td>8.374441</td>\n",
       "      <td>318.902055</td>\n",
       "    </tr>\n",
       "    <tr>\n",
       "      <th>std</th>\n",
       "      <td>273.944502</td>\n",
       "      <td>46.614586</td>\n",
       "      <td>1042.554968</td>\n",
       "    </tr>\n",
       "    <tr>\n",
       "      <th>min</th>\n",
       "      <td>0.000000</td>\n",
       "      <td>0.000000</td>\n",
       "      <td>0.000000</td>\n",
       "    </tr>\n",
       "    <tr>\n",
       "      <th>25%</th>\n",
       "      <td>0.000000</td>\n",
       "      <td>0.000000</td>\n",
       "      <td>0.000000</td>\n",
       "    </tr>\n",
       "    <tr>\n",
       "      <th>50%</th>\n",
       "      <td>1.000000</td>\n",
       "      <td>1.000000</td>\n",
       "      <td>5.000000</td>\n",
       "    </tr>\n",
       "    <tr>\n",
       "      <th>75%</th>\n",
       "      <td>25.000000</td>\n",
       "      <td>2.000000</td>\n",
       "      <td>231.400000</td>\n",
       "    </tr>\n",
       "    <tr>\n",
       "      <th>max</th>\n",
       "      <td>4721.950000</td>\n",
       "      <td>689.000000</td>\n",
       "      <td>10199.800000</td>\n",
       "    </tr>\n",
       "  </tbody>\n",
       "</table>\n",
       "</div>"
      ],
      "text/plain": [
       "       total_spent  purchased_item_count  points_earned\n",
       "count  1119.000000           1119.000000    1119.000000\n",
       "mean     47.554111              8.374441     318.902055\n",
       "std     273.944502             46.614586    1042.554968\n",
       "min       0.000000              0.000000       0.000000\n",
       "25%       0.000000              0.000000       0.000000\n",
       "50%       1.000000              1.000000       5.000000\n",
       "75%      25.000000              2.000000     231.400000\n",
       "max    4721.950000            689.000000   10199.800000"
      ]
     },
     "execution_count": 48,
     "metadata": {},
     "output_type": "execute_result"
    }
   ],
   "source": [
    "receipts_df[['total_spent','purchased_item_count','points_earned']].describe()"
   ]
  },
  {
   "cell_type": "markdown",
   "id": "a0f91cc6-5614-4273-9994-1b81343d5be3",
   "metadata": {},
   "source": [
    "#### Items"
   ]
  },
  {
   "cell_type": "code",
   "execution_count": 49,
   "id": "be8b79bd-4198-46da-ba63-e2de44c94220",
   "metadata": {},
   "outputs": [],
   "source": [
    "items_df = (\n",
    "    receipts_stage_df[['_id', 'rewardsReceiptItemList']]\n",
    "    .explode('rewardsReceiptItemList')\n",
    "    .reset_index(drop=True)\n",
    ")\n",
    "items_df = pd.concat([\n",
    "    items_df['_id'],\n",
    "    items_df['rewardsReceiptItemList'].apply(\n",
    "        lambda x: pd.Series(x) if isinstance(x, dict) else pd.Series()\n",
    "    )\n",
    "], axis=1)\n",
    "\n",
    "items_df = items_df.dropna(how='all', subset=items_df.columns.difference(['_id']))\n",
    "\n",
    "items_df['receipt_item_id'] = [uuid.uuid4() for _ in range(len(items_df))]"
   ]
  },
  {
   "cell_type": "code",
   "execution_count": 50,
   "id": "00879903-b949-40c8-a892-2cac5a53c093",
   "metadata": {},
   "outputs": [],
   "source": [
    "items_df = items_df.rename(columns = {\n",
    "        '_id': 'receipt_id', \n",
    "        'receipt_item_id': 'receipt_item_id', \n",
    "        'barcode': 'barcode',\n",
    "        'description': 'description',\n",
    "        'finalPrice': 'final_price',\n",
    "        'itemPrice': 'item_price',\n",
    "        'needsFetchReview': 'needs_fetch_review',\n",
    "        'partnerItemId': 'partner_item_id',\n",
    "        'preventTargetGapPoints': 'prevent_target_gap_points',\n",
    "        'quantityPurchased': 'quantity_purchased',\n",
    "        'userFlaggedBarcode': 'user_flagged_barcode',\n",
    "        'userFlaggedNewItem': 'user_flagged_new_item',\n",
    "        'userFlaggedPrice': 'user_flagged_price',\n",
    "        'userFlaggedQuantity': 'user_flagged_quantity',\n",
    "        'needsFetchReviewReason': 'needs_fetch_review_reason',\n",
    "        'pointsNotAwardedReason': 'points_not_awarded_reason',\n",
    "        'pointsPayerId': 'points_payer_id',\n",
    "        'rewardsGroup': 'rewards_group',\n",
    "        'rewardsProductPartnerId': 'rewards_product_partner_id',\n",
    "        'userFlaggedDescription': 'user_flagged_description',\n",
    "        'originalMetaBriteBarcode': 'original_metabrite_barcode',\n",
    "        'originalMetaBriteDescription': 'original_metabrite_desc',\n",
    "        'brandCode': 'brand_code',\n",
    "        'competitorRewardsGroup': 'competitor_rewards_group',\n",
    "        'discountedItemPrice': 'discounted_item_price',\n",
    "        'originalReceiptItemText': 'original_receipt_text',\n",
    "        'itemNumber': 'item_number',\n",
    "        'originalMetaBriteQuantityPurchased': 'original_metabrite_qty',\n",
    "        'pointsEarned': 'points_earned',\n",
    "        'targetPrice': 'target_price',\n",
    "        'competitiveProduct': 'competitive_product',\n",
    "        'originalFinalPrice': 'original_final_price',\n",
    "        'originalMetaBriteItemPrice': 'original_metabrite_price',\n",
    "        'deleted': 'deleted',\n",
    "        'priceAfterCoupon': 'price_after_coupon',\n",
    "        'metabriteCampaignId': 'metabrite_campaign_id'\n",
    "    }\n",
    ")"
   ]
  },
  {
   "cell_type": "code",
   "execution_count": 51,
   "id": "85d540c2-17e8-4c70-99ac-8423c863b8e0",
   "metadata": {},
   "outputs": [
    {
     "data": {
      "text/html": [
       "<div>\n",
       "<style scoped>\n",
       "    .dataframe tbody tr th:only-of-type {\n",
       "        vertical-align: middle;\n",
       "    }\n",
       "\n",
       "    .dataframe tbody tr th {\n",
       "        vertical-align: top;\n",
       "    }\n",
       "\n",
       "    .dataframe thead th {\n",
       "        text-align: right;\n",
       "    }\n",
       "</style>\n",
       "<table border=\"1\" class=\"dataframe\">\n",
       "  <thead>\n",
       "    <tr style=\"text-align: right;\">\n",
       "      <th></th>\n",
       "      <th>receipt_id</th>\n",
       "      <th>barcode</th>\n",
       "      <th>description</th>\n",
       "      <th>final_price</th>\n",
       "      <th>item_price</th>\n",
       "      <th>needs_fetch_review</th>\n",
       "      <th>partner_item_id</th>\n",
       "      <th>prevent_target_gap_points</th>\n",
       "      <th>quantity_purchased</th>\n",
       "      <th>user_flagged_barcode</th>\n",
       "      <th>...</th>\n",
       "      <th>original_metabrite_qty</th>\n",
       "      <th>points_earned</th>\n",
       "      <th>target_price</th>\n",
       "      <th>competitive_product</th>\n",
       "      <th>original_final_price</th>\n",
       "      <th>original_metabrite_price</th>\n",
       "      <th>deleted</th>\n",
       "      <th>price_after_coupon</th>\n",
       "      <th>metabrite_campaign_id</th>\n",
       "      <th>receipt_item_id</th>\n",
       "    </tr>\n",
       "  </thead>\n",
       "  <tbody>\n",
       "    <tr>\n",
       "      <th>0</th>\n",
       "      <td>5ff1e1eb0a720f0523000575</td>\n",
       "      <td>4011</td>\n",
       "      <td>ITEM NOT FOUND</td>\n",
       "      <td>26.00</td>\n",
       "      <td>26.00</td>\n",
       "      <td>False</td>\n",
       "      <td>1</td>\n",
       "      <td>True</td>\n",
       "      <td>5.0</td>\n",
       "      <td>4011</td>\n",
       "      <td>...</td>\n",
       "      <td>NaN</td>\n",
       "      <td>NaN</td>\n",
       "      <td>NaN</td>\n",
       "      <td>NaN</td>\n",
       "      <td>NaN</td>\n",
       "      <td>NaN</td>\n",
       "      <td>NaN</td>\n",
       "      <td>NaN</td>\n",
       "      <td>NaN</td>\n",
       "      <td>9328d26f-0cbf-4184-9060-711c9ab78ac1</td>\n",
       "    </tr>\n",
       "    <tr>\n",
       "      <th>1</th>\n",
       "      <td>5ff1e1bb0a720f052300056b</td>\n",
       "      <td>4011</td>\n",
       "      <td>ITEM NOT FOUND</td>\n",
       "      <td>1</td>\n",
       "      <td>1</td>\n",
       "      <td>NaN</td>\n",
       "      <td>1</td>\n",
       "      <td>NaN</td>\n",
       "      <td>1.0</td>\n",
       "      <td>NaN</td>\n",
       "      <td>...</td>\n",
       "      <td>NaN</td>\n",
       "      <td>NaN</td>\n",
       "      <td>NaN</td>\n",
       "      <td>NaN</td>\n",
       "      <td>NaN</td>\n",
       "      <td>NaN</td>\n",
       "      <td>NaN</td>\n",
       "      <td>NaN</td>\n",
       "      <td>NaN</td>\n",
       "      <td>5912728d-f8b5-43d4-b964-b88da713a459</td>\n",
       "    </tr>\n",
       "    <tr>\n",
       "      <th>2</th>\n",
       "      <td>5ff1e1bb0a720f052300056b</td>\n",
       "      <td>028400642255</td>\n",
       "      <td>DORITOS TORTILLA CHIP SPICY SWEET CHILI REDUCE...</td>\n",
       "      <td>10.00</td>\n",
       "      <td>10.00</td>\n",
       "      <td>True</td>\n",
       "      <td>2</td>\n",
       "      <td>True</td>\n",
       "      <td>1.0</td>\n",
       "      <td>028400642255</td>\n",
       "      <td>...</td>\n",
       "      <td>NaN</td>\n",
       "      <td>NaN</td>\n",
       "      <td>NaN</td>\n",
       "      <td>NaN</td>\n",
       "      <td>NaN</td>\n",
       "      <td>NaN</td>\n",
       "      <td>NaN</td>\n",
       "      <td>NaN</td>\n",
       "      <td>NaN</td>\n",
       "      <td>6ea68381-643b-4a3f-a3be-f3308fd1d905</td>\n",
       "    </tr>\n",
       "    <tr>\n",
       "      <th>3</th>\n",
       "      <td>5ff1e1f10a720f052300057a</td>\n",
       "      <td>NaN</td>\n",
       "      <td>NaN</td>\n",
       "      <td>NaN</td>\n",
       "      <td>NaN</td>\n",
       "      <td>False</td>\n",
       "      <td>1</td>\n",
       "      <td>True</td>\n",
       "      <td>NaN</td>\n",
       "      <td>4011</td>\n",
       "      <td>...</td>\n",
       "      <td>NaN</td>\n",
       "      <td>NaN</td>\n",
       "      <td>NaN</td>\n",
       "      <td>NaN</td>\n",
       "      <td>NaN</td>\n",
       "      <td>NaN</td>\n",
       "      <td>NaN</td>\n",
       "      <td>NaN</td>\n",
       "      <td>NaN</td>\n",
       "      <td>2e9ee36d-cef9-4932-ad12-7a4cae7d31fe</td>\n",
       "    </tr>\n",
       "    <tr>\n",
       "      <th>4</th>\n",
       "      <td>5ff1e1ee0a7214ada100056f</td>\n",
       "      <td>4011</td>\n",
       "      <td>ITEM NOT FOUND</td>\n",
       "      <td>28.00</td>\n",
       "      <td>28.00</td>\n",
       "      <td>False</td>\n",
       "      <td>1</td>\n",
       "      <td>True</td>\n",
       "      <td>4.0</td>\n",
       "      <td>4011</td>\n",
       "      <td>...</td>\n",
       "      <td>NaN</td>\n",
       "      <td>NaN</td>\n",
       "      <td>NaN</td>\n",
       "      <td>NaN</td>\n",
       "      <td>NaN</td>\n",
       "      <td>NaN</td>\n",
       "      <td>NaN</td>\n",
       "      <td>NaN</td>\n",
       "      <td>NaN</td>\n",
       "      <td>77600844-97f0-4552-8e24-b8bfa891543e</td>\n",
       "    </tr>\n",
       "  </tbody>\n",
       "</table>\n",
       "<p>5 rows × 36 columns</p>\n",
       "</div>"
      ],
      "text/plain": [
       "                 receipt_id       barcode  \\\n",
       "0  5ff1e1eb0a720f0523000575          4011   \n",
       "1  5ff1e1bb0a720f052300056b          4011   \n",
       "2  5ff1e1bb0a720f052300056b  028400642255   \n",
       "3  5ff1e1f10a720f052300057a           NaN   \n",
       "4  5ff1e1ee0a7214ada100056f          4011   \n",
       "\n",
       "                                         description final_price item_price  \\\n",
       "0                                     ITEM NOT FOUND       26.00      26.00   \n",
       "1                                     ITEM NOT FOUND           1          1   \n",
       "2  DORITOS TORTILLA CHIP SPICY SWEET CHILI REDUCE...       10.00      10.00   \n",
       "3                                                NaN         NaN        NaN   \n",
       "4                                     ITEM NOT FOUND       28.00      28.00   \n",
       "\n",
       "  needs_fetch_review partner_item_id prevent_target_gap_points  \\\n",
       "0              False               1                      True   \n",
       "1                NaN               1                       NaN   \n",
       "2               True               2                      True   \n",
       "3              False               1                      True   \n",
       "4              False               1                      True   \n",
       "\n",
       "   quantity_purchased user_flagged_barcode  ... original_metabrite_qty  \\\n",
       "0                 5.0                 4011  ...                    NaN   \n",
       "1                 1.0                  NaN  ...                    NaN   \n",
       "2                 1.0         028400642255  ...                    NaN   \n",
       "3                 NaN                 4011  ...                    NaN   \n",
       "4                 4.0                 4011  ...                    NaN   \n",
       "\n",
       "  points_earned  target_price competitive_product original_final_price  \\\n",
       "0           NaN           NaN                 NaN                  NaN   \n",
       "1           NaN           NaN                 NaN                  NaN   \n",
       "2           NaN           NaN                 NaN                  NaN   \n",
       "3           NaN           NaN                 NaN                  NaN   \n",
       "4           NaN           NaN                 NaN                  NaN   \n",
       "\n",
       "  original_metabrite_price deleted price_after_coupon metabrite_campaign_id  \\\n",
       "0                      NaN     NaN                NaN                   NaN   \n",
       "1                      NaN     NaN                NaN                   NaN   \n",
       "2                      NaN     NaN                NaN                   NaN   \n",
       "3                      NaN     NaN                NaN                   NaN   \n",
       "4                      NaN     NaN                NaN                   NaN   \n",
       "\n",
       "                        receipt_item_id  \n",
       "0  9328d26f-0cbf-4184-9060-711c9ab78ac1  \n",
       "1  5912728d-f8b5-43d4-b964-b88da713a459  \n",
       "2  6ea68381-643b-4a3f-a3be-f3308fd1d905  \n",
       "3  2e9ee36d-cef9-4932-ad12-7a4cae7d31fe  \n",
       "4  77600844-97f0-4552-8e24-b8bfa891543e  \n",
       "\n",
       "[5 rows x 36 columns]"
      ]
     },
     "execution_count": 51,
     "metadata": {},
     "output_type": "execute_result"
    }
   ],
   "source": [
    "items_df.head()"
   ]
  },
  {
   "cell_type": "code",
   "execution_count": 52,
   "id": "7cd88949-8985-4912-a56f-2065955cee77",
   "metadata": {},
   "outputs": [
    {
     "data": {
      "text/plain": [
       "(6941, 36)"
      ]
     },
     "execution_count": 52,
     "metadata": {},
     "output_type": "execute_result"
    }
   ],
   "source": [
    "items_df.shape"
   ]
  },
  {
   "cell_type": "code",
   "execution_count": 53,
   "id": "b68851f0-95a9-4aed-bb96-c85035ab4824",
   "metadata": {},
   "outputs": [
    {
     "data": {
      "text/plain": [
       "receipt_id                     object\n",
       "barcode                        object\n",
       "description                    object\n",
       "final_price                    object\n",
       "item_price                     object\n",
       "needs_fetch_review             object\n",
       "partner_item_id                object\n",
       "prevent_target_gap_points      object\n",
       "quantity_purchased            float64\n",
       "user_flagged_barcode           object\n",
       "user_flagged_new_item          object\n",
       "user_flagged_price             object\n",
       "user_flagged_quantity         float64\n",
       "needs_fetch_review_reason      object\n",
       "points_not_awarded_reason      object\n",
       "points_payer_id                object\n",
       "rewards_group                  object\n",
       "rewards_product_partner_id     object\n",
       "user_flagged_description       object\n",
       "original_metabrite_barcode     object\n",
       "original_metabrite_desc        object\n",
       "brand_code                     object\n",
       "competitor_rewards_group       object\n",
       "discounted_item_price          object\n",
       "original_receipt_text          object\n",
       "item_number                    object\n",
       "original_metabrite_qty        float64\n",
       "points_earned                  object\n",
       "target_price                   object\n",
       "competitive_product            object\n",
       "original_final_price           object\n",
       "original_metabrite_price       object\n",
       "deleted                        object\n",
       "price_after_coupon             object\n",
       "metabrite_campaign_id          object\n",
       "receipt_item_id                object\n",
       "dtype: object"
      ]
     },
     "execution_count": 53,
     "metadata": {},
     "output_type": "execute_result"
    }
   ],
   "source": [
    "items_df.dtypes"
   ]
  },
  {
   "cell_type": "code",
   "execution_count": 54,
   "id": "d4a8d239-dc5a-40db-b21e-b4ccbec1e61c",
   "metadata": {},
   "outputs": [
    {
     "data": {
      "text/plain": [
       "receipt_id                       0\n",
       "barcode                       3851\n",
       "description                    381\n",
       "final_price                    174\n",
       "item_price                     174\n",
       "needs_fetch_review            6128\n",
       "partner_item_id                  0\n",
       "prevent_target_gap_points     6583\n",
       "quantity_purchased             174\n",
       "user_flagged_barcode          6604\n",
       "user_flagged_new_item         6618\n",
       "user_flagged_price            6642\n",
       "user_flagged_quantity         6642\n",
       "needs_fetch_review_reason     6722\n",
       "points_not_awarded_reason     6601\n",
       "points_payer_id               5674\n",
       "rewards_group                 5210\n",
       "rewards_product_partner_id    4672\n",
       "user_flagged_description      6736\n",
       "original_metabrite_barcode    6870\n",
       "original_metabrite_desc       6931\n",
       "brand_code                    4341\n",
       "competitor_rewards_group      6666\n",
       "discounted_item_price         1172\n",
       "original_receipt_text         1181\n",
       "item_number                   6788\n",
       "original_metabrite_qty        6926\n",
       "points_earned                 6014\n",
       "target_price                  6563\n",
       "competitive_product           6296\n",
       "original_final_price          6932\n",
       "original_metabrite_price      6932\n",
       "deleted                       6932\n",
       "price_after_coupon            5985\n",
       "metabrite_campaign_id         6078\n",
       "receipt_item_id                  0\n",
       "dtype: int64"
      ]
     },
     "execution_count": 54,
     "metadata": {},
     "output_type": "execute_result"
    }
   ],
   "source": [
    "items_df.isnull().sum()"
   ]
  },
  {
   "cell_type": "code",
   "execution_count": 55,
   "id": "dbcdffb1-dabf-4253-ae7a-93745745553f",
   "metadata": {},
   "outputs": [
    {
     "data": {
      "text/plain": [
       "0"
      ]
     },
     "execution_count": 55,
     "metadata": {},
     "output_type": "execute_result"
    }
   ],
   "source": [
    "items_df.duplicated().sum()"
   ]
  },
  {
   "cell_type": "code",
   "execution_count": 56,
   "id": "914c4bb9-9e67-4d6b-a599-71b5529d6ed5",
   "metadata": {},
   "outputs": [
    {
     "data": {
      "text/plain": [
       "description\n",
       "ITEM NOT FOUND                                                         173\n",
       "KLARBRUNN 12PK 12 FL OZ                                                120\n",
       "HUGGIES SIMPLY CLEAN PREMOISTENED WIPE FRAGRANCE FREE BAG 216 COUNT     92\n",
       "MILLER LITE 24 PACK 12OZ CAN                                            90\n",
       "KLEENEX POP UP RECTANGLE BOX FACIAL TISSUE 2 PLY 8PK 160 CT             87\n",
       "dtype: int64"
      ]
     },
     "execution_count": 56,
     "metadata": {},
     "output_type": "execute_result"
    }
   ],
   "source": [
    "items_df.groupby('description').size().sort_values(ascending=False).head()"
   ]
  },
  {
   "cell_type": "code",
   "execution_count": 57,
   "id": "12a9ca4b-45cf-4e14-8a3b-166059efaec6",
   "metadata": {},
   "outputs": [
    {
     "data": {
      "text/html": [
       "<div>\n",
       "<style scoped>\n",
       "    .dataframe tbody tr th:only-of-type {\n",
       "        vertical-align: middle;\n",
       "    }\n",
       "\n",
       "    .dataframe tbody tr th {\n",
       "        vertical-align: top;\n",
       "    }\n",
       "\n",
       "    .dataframe thead th {\n",
       "        text-align: right;\n",
       "    }\n",
       "</style>\n",
       "<table border=\"1\" class=\"dataframe\">\n",
       "  <thead>\n",
       "    <tr style=\"text-align: right;\">\n",
       "      <th></th>\n",
       "      <th>receipt_id</th>\n",
       "      <th>barcode</th>\n",
       "      <th>description</th>\n",
       "      <th>final_price</th>\n",
       "      <th>item_price</th>\n",
       "      <th>needs_fetch_review</th>\n",
       "      <th>partner_item_id</th>\n",
       "      <th>prevent_target_gap_points</th>\n",
       "      <th>quantity_purchased</th>\n",
       "      <th>user_flagged_barcode</th>\n",
       "      <th>...</th>\n",
       "      <th>original_metabrite_qty</th>\n",
       "      <th>points_earned</th>\n",
       "      <th>target_price</th>\n",
       "      <th>competitive_product</th>\n",
       "      <th>original_final_price</th>\n",
       "      <th>original_metabrite_price</th>\n",
       "      <th>deleted</th>\n",
       "      <th>price_after_coupon</th>\n",
       "      <th>metabrite_campaign_id</th>\n",
       "      <th>receipt_item_id</th>\n",
       "    </tr>\n",
       "  </thead>\n",
       "  <tbody>\n",
       "  </tbody>\n",
       "</table>\n",
       "<p>0 rows × 36 columns</p>\n",
       "</div>"
      ],
      "text/plain": [
       "Empty DataFrame\n",
       "Columns: [receipt_id, barcode, description, final_price, item_price, needs_fetch_review, partner_item_id, prevent_target_gap_points, quantity_purchased, user_flagged_barcode, user_flagged_new_item, user_flagged_price, user_flagged_quantity, needs_fetch_review_reason, points_not_awarded_reason, points_payer_id, rewards_group, rewards_product_partner_id, user_flagged_description, original_metabrite_barcode, original_metabrite_desc, brand_code, competitor_rewards_group, discounted_item_price, original_receipt_text, item_number, original_metabrite_qty, points_earned, target_price, competitive_product, original_final_price, original_metabrite_price, deleted, price_after_coupon, metabrite_campaign_id, receipt_item_id]\n",
       "Index: []\n",
       "\n",
       "[0 rows x 36 columns]"
      ]
     },
     "execution_count": 57,
     "metadata": {},
     "output_type": "execute_result"
    }
   ],
   "source": [
    "items_df[items_df.duplicated(subset=['receipt_id','partner_item_id'], keep=False)]"
   ]
  },
  {
   "cell_type": "markdown",
   "id": "394367a9-67b2-4a15-b160-122ce36b8b70",
   "metadata": {},
   "source": [
    "## 1: Review Existing Unstructured Data and Diagram a New Structured Relational Data Model"
   ]
  },
  {
   "cell_type": "raw",
   "id": "b05c406f-3cfd-486d-bde2-f3501a0259a0",
   "metadata": {},
   "source": [
    "               +-------------------+                \n",
    "               |       Users       |\n",
    "               |-------------------|                \n",
    "   user_id <----+ PK user_id       |\n",
    "               | active_state      |\n",
    "               | created_date      |\n",
    "               | last_login        |\n",
    "               | role              |\n",
    "               | active            |\n",
    "               | state             |\n",
    "               +-------------------+\n",
    "\n",
    "               +-------------------------+\n",
    "               |         Receipts        |\n",
    "               |-------------------------|\n",
    "receipt_id --->+ PK receipt_id           |\n",
    "               | FK user_id             -+----> Users.user_id\n",
    "               | bonus_points_earned     |\n",
    "               | bonus_points_reason     |\n",
    "               | create_date             |\n",
    "               | date_scanned            |\n",
    "               | finished_date           |\n",
    "               | modify_date             |\n",
    "               | points_awarded_date     |\n",
    "               | points_earned           |\n",
    "               | purchase_date           |\n",
    "               | purchased_item_count    |\n",
    "               | receipt_status          |\n",
    "               | total_spent             |\n",
    "               +-------------------------+\n",
    "                        |\n",
    "                        | 1-to-many\n",
    "                        |\n",
    "               +---------------------------+\n",
    "               |       ReceiptItems        |\n",
    "               |---------------------------|\n",
    "               | PK  receipt_item_id       |\n",
    "receipt_id ----+ FK  receipt_id            |\n",
    "               | FK  barcode              -+----> Brands.barcode\n",
    "               | brand_code                |\n",
    "               | description               |\n",
    "               | final_price               |\n",
    "               | item_price                |\n",
    "               | needs_fetch_review        |\n",
    "               | partner_item_id           |\n",
    "               | prevent_target_gap_points |\n",
    "               | quantity_purchased        |\n",
    "               | user_flagged_barcode      |\n",
    "               | user_flagged_new_item     |\n",
    "               | user_flagged_price        |\n",
    "               | user_flagged_quantity     |\n",
    "               | needs_fetch_review_reason |\n",
    "               | points_not_awarded_reason |\n",
    "               | points_payer_id           |\n",
    "               | rewards_group             |\n",
    "               | rewards_product_partner_id|\n",
    "               | user_flagged_description  |\n",
    "               | original_metabrite_barcode|\n",
    "               | original_metabrite_desc   |\n",
    "               | competitor_rewards_group  |\n",
    "               | discounted_item_price     |\n",
    "               | original_receipt_text     |\n",
    "               | item_number               |\n",
    "               | original_metabrite_qty    |\n",
    "               | points_earned             |\n",
    "               | target_price              |\n",
    "               | competitive_product       |\n",
    "               | original_final_price      |\n",
    "               | original_metabrite_price  |\n",
    "               | deleted                   |\n",
    "               | price_after_coupon        |\n",
    "               | metabrite_campaign_id     |\n",
    "               +---------------------------+\n",
    "\n",
    "               +------------------+\n",
    "               |       Brands     |\n",
    "               |------------------|\n",
    " brand_id <----+ PK brand_id      |\n",
    "               | brand_name       |\n",
    "               | brand_code       |\n",
    "               | barcode          |\n",
    "               | category         |\n",
    "               | category_code    |\n",
    "               | barcode          |\n",
    "               | top_brand        |\n",
    "               | cpg_id           |\n",
    "               | cpg_ref          |\n",
    "               +------------------+"
   ]
  },
  {
   "cell_type": "markdown",
   "id": "a3925926-c709-4697-baa1-31d9cbc242a1",
   "metadata": {},
   "source": [
    "**In the above ERD**:\n",
    "- Users: Holds details about the users\n",
    "- Brands: Holds brand-level details for purchased items\n",
    "- Receipts: One row per receipt header, capturing overall transaction metrics\n",
    "- ReceiptItems:  One row per purchased line item. \n",
    "- Users and Brands are dimensions tables\n",
    "- Receipts and ReceiptItems are fact tables\n",
    "- We can add/remove fields as per business requirements easily"
   ]
  },
  {
   "cell_type": "markdown",
   "id": "1522814c-5eda-4127-ac60-b684f70dcd18",
   "metadata": {},
   "source": [
    "## 2. Write queries that directly answer predetermined questions from a business stakeholder\n",
    "- SQL Dialect: **PostgreSQL**"
   ]
  },
  {
   "cell_type": "markdown",
   "id": "b271ce76-8dab-4eae-888d-df8720315dcc",
   "metadata": {},
   "source": [
    "### What are the top 5 brands by receipts scanned for most recent month?"
   ]
  },
  {
   "cell_type": "markdown",
   "id": "c0f93e7c-5ea2-4f26-ab7d-b9d112c118f8",
   "metadata": {},
   "source": [
    "```\n",
    "SELECT \n",
    "  b.brand_name,\n",
    "  COUNT(DISTINCT r.receipt_id) AS receipts_scanned\n",
    "FROM receipts r\n",
    "JOIN receipt_items ri ON r.receipt_id = ri.receipt_id\n",
    "JOIN brands b ON ri.barcode = b.barcode\n",
    "WHERE EXTRACT(MONTH FROM r.purchase_date::date) = EXTRACT(MONTH FROM CURRENT_DATE)\n",
    "GROUP BY b.name\n",
    "ORDER BY receipts_scanned DESC\n",
    "LIMIT 5;\n",
    "```"
   ]
  },
  {
   "cell_type": "markdown",
   "id": "34a6b3b5-30b7-4bd8-be3c-49e621dfc0ea",
   "metadata": {},
   "source": [
    "### How does the ranking of the top 5 brands by receipts scanned for the recent month compare to the ranking for the previous month?"
   ]
  },
  {
   "cell_type": "markdown",
   "id": "76056fa2-27dd-48a9-9c1d-a033a8ae01b9",
   "metadata": {},
   "source": [
    "```\n",
    "WITH monthly_rank AS (\n",
    "    SELECT \n",
    "      EXTRACT(MONTH FROM r.purchase_date::date) AS month,\n",
    "      b.brand_name,\n",
    "      COUNT(DISTINCT r.receipt_id) AS receipts_scanned,\n",
    "      RANK() OVER (\n",
    "        PARTITION BY EXTRACT(MONTH FROM r.purchase_date::date) \n",
    "        ORDER BY COUNT(DISTINCT r.receipt_id) DESC\n",
    "      ) AS rank\n",
    "    FROM receipts r\n",
    "    JOIN receipt_items ri ON r.receipt_id = ri.receipt_id\n",
    "    JOIN brands b ON ri.barcode = b.barcode\n",
    "    WHERE EXTRACT(MONTH FROM r.purchase_date::date) >= EXTRACT(MONTH FROM CURRENT_DATE - INTERVAL '1 month')\n",
    "    GROUP BY EXTRACT(MONTH FROM r.purchase_date::date), b.brand_name\n",
    ")\n",
    "\n",
    "SELECT \n",
    "  curr.month AS current_month,\n",
    "  prev.month AS previous_month,\n",
    "  curr.brand_name,\n",
    "  curr.rank AS current_rank,\n",
    "  prev.rank AS previous_rank\n",
    "FROM monthly_rank curr\n",
    "LEFT JOIN monthly_rank prev \n",
    "  ON curr.brand_name = prev.brand_name \n",
    "  AND prev.month = curr.month - 1\n",
    "WHERE (curr.rank <= 5 OR prev.rank <= 5)\n",
    "ORDER BY curr.rank;\n",
    "```"
   ]
  },
  {
   "cell_type": "markdown",
   "id": "2253a465-02ac-40e3-9fbf-30b336a1d340",
   "metadata": {},
   "source": [
    "### When considering average spend from receipts with 'rewardsReceiptStatus’ of ‘Accepted’ or ‘Rejected’, which is greater?"
   ]
  },
  {
   "cell_type": "markdown",
   "id": "300b8f27-668b-4512-beaf-3640e1f0077f",
   "metadata": {},
   "source": [
    "```\n",
    "SELECT \n",
    "  receipt_status AS status,\n",
    "  AVG(total_spent) AS average_spend\n",
    "FROM receipts\n",
    "WHERE UPPER(TRIM(receipt_status)) IN ('FINISHED', 'REJECTED')\n",
    "GROUP BY receipt_status;\n",
    "```"
   ]
  },
  {
   "cell_type": "markdown",
   "id": "d1cd37e7-0acc-49b0-9e61-657272b88021",
   "metadata": {},
   "source": [
    "### When considering total number of items purchased from receipts with 'rewardsReceiptStatus’ of ‘Accepted’ or ‘Rejected’, which is greater?"
   ]
  },
  {
   "cell_type": "markdown",
   "id": "c6ad78bb-4a91-442c-b60b-1e32690499fa",
   "metadata": {},
   "source": [
    "```\n",
    "SELECT \n",
    "  receipt_status AS status,\n",
    "  SUM(purchased_item_count) AS total_items\n",
    "FROM receipts\n",
    "WHERE UPPER(TRIM(receipt_status)) IN ('FINISHED', 'REJECTED')\n",
    "GROUP BY receipt_status;\n",
    "```"
   ]
  },
  {
   "cell_type": "markdown",
   "id": "93ae6e66-4fb6-4400-94e6-2e76a9f3a100",
   "metadata": {},
   "source": [
    "### Which brand has the most spend among users who were created within the past 6 months?"
   ]
  },
  {
   "cell_type": "markdown",
   "id": "b2d47944-1893-47cf-93e5-cebe5d1b6614",
   "metadata": {},
   "source": [
    "```\n",
    "SELECT \n",
    "  b.brand_name,\n",
    "  SUM(ri.final_price * ri.quantity_purchased) AS total_spend\n",
    "FROM users u\n",
    "JOIN receipts r ON u.user_id = r.user_id\n",
    "JOIN receipt_items ri ON r.receipt_id = ri.receipt_id\n",
    "JOIN brands b ON ri.barcode = b.barcode\n",
    "WHERE u.created_date >= CURRENT_DATE - INTERVAL '6 months'\n",
    "GROUP BY b.brand_name\n",
    "ORDER BY total_spend DESC\n",
    "LIMIT 1;\n",
    "```"
   ]
  },
  {
   "cell_type": "markdown",
   "id": "92f7550b-c275-473d-90d8-cec437e865ff",
   "metadata": {},
   "source": [
    "### Which brand has the most transactions among users who were created within the past 6 months?"
   ]
  },
  {
   "cell_type": "markdown",
   "id": "0deae7c8-774e-4b01-802f-88d6aa58100e",
   "metadata": {},
   "source": [
    "```\n",
    "SELECT \n",
    "  b.brand_name,\n",
    "  COUNT(DISTINCT r.receipt_id) AS transaction_count\n",
    "FROM users u\n",
    "JOIN receipts r ON u.user_id = r.user_id\n",
    "JOIN receipt_items ri ON r.receipt_id = ri.receipt_id\n",
    "JOIN brands b ON ri.barcode = b.barcode\n",
    "WHERE u.created_date >= CURRENT_DATE - INTERVAL '6 months'\n",
    "GROUP BY b.brand_name\n",
    "ORDER BY transaction_count DESC\n",
    "LIMIT 1;\n",
    "```"
   ]
  },
  {
   "cell_type": "markdown",
   "id": "77266cd9-7d7f-43ab-9f2a-aa45e345d018",
   "metadata": {},
   "source": [
    "## 3. Evaluate Data Quality Issues in the Data Provided\n",
    "- The below results are derived from the **Data Analysis** section"
   ]
  },
  {
   "cell_type": "markdown",
   "id": "7a1c62e6-f1c1-4e13-aa63-51f77c2ea09d",
   "metadata": {},
   "source": [
    "### User data\n",
    "\n",
    "- Duplicate data: This table had duplicate data for 283 users which can yield incorrect results in Analytics and hence should be cleaned. \n",
    "- Missing values: 'last_login', 'sign_up_source' and 'state' variables had missing values. These are not always a problem as long as the meaning of a missing value is clear. For example a missing value in the variable 'last_login' may signifiy that it's the user's first login. Whereas a missing value in the variable 'sign_up_source' isn't as clear as this signifies an unknown source."
   ]
  },
  {
   "cell_type": "markdown",
   "id": "26d032cf-e73e-469a-88f6-1b87005126cc",
   "metadata": {},
   "source": [
    "### Brands data\n",
    "\n",
    "- Test brands: Data includes 432 brands with 'test' in the name which seems like testing data which shouldn't be mixed with production data.\n",
    "- Duplicate data: 10 brands seemed to have duplicate values for 'barcode' variable which is a foreign key in receipts data causing a problem with the JOIN. 22 records have duplicate brand name values with different brand_id, showing inconsistent mapping as well. Key fields like this shouldn't have duplicates as it leads to data integrity issues.\n",
    "- Missing data: The variable 'category_code' seems to have inconsistent and missing values. Some categories that should have a category_code, don't have one. This indicates incorrect mapping at source and should be resolved for analytics.\n",
    "- Inconsistent types: top_brand is a numeric boolean(float 1/0) but is meant to be boolean(T/F). "
   ]
  },
  {
   "cell_type": "markdown",
   "id": "1cb23b65-e534-4194-9845-ab710ab466af",
   "metadata": {},
   "source": [
    "### Receipts & Items data\n",
    "\n",
    "- Potential void transactions: There are 450 records with 0 spend, these could signify void transactions which could be excluded or handled accordingly.\n",
    "- Missing dates: There are 448 records with no 'purchase' or 'finish' date which are key fields for transaction data.\n",
    "- Skewed data: Looking at distribution for numeric fields like points_earned, total_spent and purchased_item_count, this data seems to have potential outliers with values like 689 items purchased. This should be investigated. Adding data quality checks for these metrics is also a good idea.\n",
    "- Missing barcode in items: The 'barcode' variable seems to be missing for certain items which is a key field to tie back to brands data. The Items data seems to be sparse in general with high missing value percentages across variables, at least half of all columns have more than 70% missing values.\n",
    "- Placeholder data: Majority items have 'ITEM NOT FOUND' as the description, possible placeholder values indicating missing actual description."
   ]
  },
  {
   "cell_type": "markdown",
   "id": "cf3d02d4-4a1a-41b0-962c-5bb26d2a23e0",
   "metadata": {},
   "source": [
    "## 4. Communicate with Stakeholders"
   ]
  },
  {
   "cell_type": "markdown",
   "id": "d341bcca-132a-47cc-b9a2-fe28a2fe101b",
   "metadata": {},
   "source": [
    "#### **Subject: Data Quality & Optimization: Observations, Questions, and Next Steps**\n",
    "\n",
    "Hello [Stakeholder Name],\n",
    "\n",
    "I’ve been reviewing the data assets and wanted to share some key observations along with a few questions that will help us move forward. These notes are meant to highlight current data quality concerns and outline what’s needed to ensure the data is usable, scalable, and aligned with our business goals.\n",
    "\n",
    "In terms of the architecture, we can structure the data into four main tables — Users, Receipts, Items, and Brands. This provides a clear way to track which users submitted which receipts, what items were purchased, and which brand each item belongs to.\n",
    "\n",
    "#### Data Quality Observations\n",
    "I explored each dataset using basic profiling: checking for null values, unusual patterns, duplicate values, and outliers. \n",
    "This surfaced several issues, including:\n",
    "- Missing key variables\n",
    "- High duplicate counts\n",
    "- Potentially invalid or placeholder records\n",
    "- Mixed production and test data\n",
    "\n",
    "#### Open Questions\n",
    "\n",
    "To address the above concerns effectively, I’d love your input on the following:\n",
    "- The data seems to contain both production and test records — is this expected, or should test data be filtered out?\n",
    "- How are brands and items meant to connect — is barcode the correct field for linking? What is the intended use of this data in the current product?\n",
    "- Which fields are critical to the business, and which are safe to drop or impute?\n",
    "- What assumptions are okay when data is missing — for example, should a null last_login indicate the user’s first login?\n",
    "- How should we handle receipts that are missing user_id?\n",
    "- Are we expected to ignore or correct obviously inaccurate price or points data?\n",
    "\n",
    "#### Additional Context Requested\n",
    "\n",
    "If available, I’d appreciate:\n",
    "- Documentation on field definitions and expected value ranges\n",
    "- More details on how this data is used (e.g., analytics dashboards, vendor feeds, ML models)\n",
    "\n",
    "#### Performance & Scaling Considerations\n",
    "\n",
    "As the volume of data grows, there are a few optimizations we may want to consider:\n",
    "- Partitioning receipts by day or hour to improve query performance in the warehouse\n",
    "- Building aggregate tables to reduce expensive JOINs depending on business use cases\n",
    "- Monitoring data freshness and latency for real-time or near-real-time use cases\n",
    "\n",
    "Feel free to reach out if you’d like to discuss anything in more detail. Thank you for your time, and I look forward to collaborating to improve and optimize our data assets.\n",
    "\n",
    "Best regards,"
   ]
  }
 ],
 "metadata": {
  "kernelspec": {
   "display_name": ".env",
   "language": "python",
   "name": ".env"
  },
  "language_info": {
   "codemirror_mode": {
    "name": "ipython",
    "version": 3
   },
   "file_extension": ".py",
   "mimetype": "text/x-python",
   "name": "python",
   "nbconvert_exporter": "python",
   "pygments_lexer": "ipython3",
   "version": "3.8.2"
  }
 },
 "nbformat": 4,
 "nbformat_minor": 5
}
